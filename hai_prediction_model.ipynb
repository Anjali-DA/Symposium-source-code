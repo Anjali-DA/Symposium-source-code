{
  "nbformat": 4,
  "nbformat_minor": 0,
  "metadata": {
    "colab": {
      "provenance": [],
      "mount_file_id": "1X3dFDE2bCHBn4RdVvxkb6WYJzbChWruU",
      "authorship_tag": "ABX9TyOb5FrvZtIRAzUlhdadcQEF",
      "include_colab_link": true
    },
    "kernelspec": {
      "name": "python3",
      "display_name": "Python 3"
    },
    "language_info": {
      "name": "python"
    }
  },
  "cells": [
    {
      "cell_type": "markdown",
      "metadata": {
        "id": "view-in-github",
        "colab_type": "text"
      },
      "source": [
        "<a href=\"https://colab.research.google.com/github/stupiddint/Symposium-source-code/blob/main/hai_prediction_model.ipynb\" target=\"_parent\"><img src=\"https://colab.research.google.com/assets/colab-badge.svg\" alt=\"Open In Colab\"/></a>"
      ]
    },
    {
      "cell_type": "code",
      "execution_count": 97,
      "metadata": {
        "id": "nOuORTvlhwwp"
      },
      "outputs": [],
      "source": [
        "import pandas as pd\n",
        "import numpy as np\n",
        "import seaborn as sns\n",
        "import matplotlib.pyplot as plt\n",
        "import string\n",
        "# Standardization \n",
        "from sklearn.preprocessing import StandardScaler\n",
        "import nltk\n",
        "# remove stopwords\n",
        "from nltk.corpus import stopwords\n",
        "# lemmatization & pos tagging\n",
        "from nltk import pos_tag\n",
        "from nltk.corpus import wordnet\n",
        "from nltk.tokenize import word_tokenize\n",
        "from nltk.stem import WordNetLemmatizer\n",
        "\n",
        "from sklearn.feature_extraction.text import TfidfVectorizer\n",
        "\n",
        "from datetime import datetime\n"
      ]
    },
    {
      "cell_type": "code",
      "source": [
        "df= pd.read_csv('/content/drive/MyDrive/Colab Notebooks/dataset/HAI_DATASET(N).csv')\n",
        "df.head()"
      ],
      "metadata": {
        "id": "V9adov8siU0y",
        "colab": {
          "base_uri": "https://localhost:8080/",
          "height": 530
        },
        "outputId": "5bde47ca-e58f-4789-9658-cea581c60ca1"
      },
      "execution_count": 98,
      "outputs": [
        {
          "output_type": "execute_result",
          "data": {
            "text/plain": [
              "   PatientID  Age Sex MedicalHistory       HospitalizationData  \\\n",
              "0          1   45   M   Hypertension  2020-03-20 to 2020-03-27   \n",
              "1          2   65   F       Diabetes  2020-03-15 to 2020-03-22   \n",
              "2          3   50   M           None  2020-03-10 to 2020-03-17   \n",
              "3          4   70   F           COPD  2020-03-05 to 2020-03-12   \n",
              "4          5   55   M         Asthma  2020-04-02 to 2020-04-09   \n",
              "\n",
              "                    LaboratoryData  ImagingData       MicrobiologyData  \\\n",
              "0                           Normal        X-ray               Negative   \n",
              "1  Elevated white blood cell count      CT scan  Positive for bacteria   \n",
              "2                           Normal          NaN               Negative   \n",
              "3  Elevated white blood cell count  Chest X-ray  Positive for bacteria   \n",
              "4  Elevated white blood cell count  Chest X-ray  Positive for bacteria   \n",
              "\n",
              "                      RiskFactors                               Symptoms  \\\n",
              "0                            None  Frequent urination, burning sensation   \n",
              "1         Use of urinary catheter  Fever, pain in surgical incision site   \n",
              "2  Central venous catheterization     Fever, chills, elevated heart rate   \n",
              "3          Mechanical ventilation      Fever, cough with purulent sputum   \n",
              "4          Mechanical ventilation          Shortness of breath, wheezing   \n",
              "\n",
              "                                Signs               Treatment  \\\n",
              "0                                 NaN  Antibiotics prescribed   \n",
              "1  Redness, swelling at incision site  Antibiotics prescribed   \n",
              "2              Positive blood culture  Antibiotics prescribed   \n",
              "3       Crackles on lung auscultation  Antibiotics prescribed   \n",
              "4            Diminished breath sounds  Antibiotics prescribed   \n",
              "\n",
              "  Hospital_Acquired_Infection  \n",
              "0                         UTI  \n",
              "1                         SSI  \n",
              "2                      CLABSI  \n",
              "3                         NaN  \n",
              "4                         VAP  "
            ],
            "text/html": [
              "\n",
              "  <div id=\"df-6baaaf98-121c-4e2d-b1d6-68c758619483\">\n",
              "    <div class=\"colab-df-container\">\n",
              "      <div>\n",
              "<style scoped>\n",
              "    .dataframe tbody tr th:only-of-type {\n",
              "        vertical-align: middle;\n",
              "    }\n",
              "\n",
              "    .dataframe tbody tr th {\n",
              "        vertical-align: top;\n",
              "    }\n",
              "\n",
              "    .dataframe thead th {\n",
              "        text-align: right;\n",
              "    }\n",
              "</style>\n",
              "<table border=\"1\" class=\"dataframe\">\n",
              "  <thead>\n",
              "    <tr style=\"text-align: right;\">\n",
              "      <th></th>\n",
              "      <th>PatientID</th>\n",
              "      <th>Age</th>\n",
              "      <th>Sex</th>\n",
              "      <th>MedicalHistory</th>\n",
              "      <th>HospitalizationData</th>\n",
              "      <th>LaboratoryData</th>\n",
              "      <th>ImagingData</th>\n",
              "      <th>MicrobiologyData</th>\n",
              "      <th>RiskFactors</th>\n",
              "      <th>Symptoms</th>\n",
              "      <th>Signs</th>\n",
              "      <th>Treatment</th>\n",
              "      <th>Hospital_Acquired_Infection</th>\n",
              "    </tr>\n",
              "  </thead>\n",
              "  <tbody>\n",
              "    <tr>\n",
              "      <th>0</th>\n",
              "      <td>1</td>\n",
              "      <td>45</td>\n",
              "      <td>M</td>\n",
              "      <td>Hypertension</td>\n",
              "      <td>2020-03-20 to 2020-03-27</td>\n",
              "      <td>Normal</td>\n",
              "      <td>X-ray</td>\n",
              "      <td>Negative</td>\n",
              "      <td>None</td>\n",
              "      <td>Frequent urination, burning sensation</td>\n",
              "      <td>NaN</td>\n",
              "      <td>Antibiotics prescribed</td>\n",
              "      <td>UTI</td>\n",
              "    </tr>\n",
              "    <tr>\n",
              "      <th>1</th>\n",
              "      <td>2</td>\n",
              "      <td>65</td>\n",
              "      <td>F</td>\n",
              "      <td>Diabetes</td>\n",
              "      <td>2020-03-15 to 2020-03-22</td>\n",
              "      <td>Elevated white blood cell count</td>\n",
              "      <td>CT scan</td>\n",
              "      <td>Positive for bacteria</td>\n",
              "      <td>Use of urinary catheter</td>\n",
              "      <td>Fever, pain in surgical incision site</td>\n",
              "      <td>Redness, swelling at incision site</td>\n",
              "      <td>Antibiotics prescribed</td>\n",
              "      <td>SSI</td>\n",
              "    </tr>\n",
              "    <tr>\n",
              "      <th>2</th>\n",
              "      <td>3</td>\n",
              "      <td>50</td>\n",
              "      <td>M</td>\n",
              "      <td>None</td>\n",
              "      <td>2020-03-10 to 2020-03-17</td>\n",
              "      <td>Normal</td>\n",
              "      <td>NaN</td>\n",
              "      <td>Negative</td>\n",
              "      <td>Central venous catheterization</td>\n",
              "      <td>Fever, chills, elevated heart rate</td>\n",
              "      <td>Positive blood culture</td>\n",
              "      <td>Antibiotics prescribed</td>\n",
              "      <td>CLABSI</td>\n",
              "    </tr>\n",
              "    <tr>\n",
              "      <th>3</th>\n",
              "      <td>4</td>\n",
              "      <td>70</td>\n",
              "      <td>F</td>\n",
              "      <td>COPD</td>\n",
              "      <td>2020-03-05 to 2020-03-12</td>\n",
              "      <td>Elevated white blood cell count</td>\n",
              "      <td>Chest X-ray</td>\n",
              "      <td>Positive for bacteria</td>\n",
              "      <td>Mechanical ventilation</td>\n",
              "      <td>Fever, cough with purulent sputum</td>\n",
              "      <td>Crackles on lung auscultation</td>\n",
              "      <td>Antibiotics prescribed</td>\n",
              "      <td>NaN</td>\n",
              "    </tr>\n",
              "    <tr>\n",
              "      <th>4</th>\n",
              "      <td>5</td>\n",
              "      <td>55</td>\n",
              "      <td>M</td>\n",
              "      <td>Asthma</td>\n",
              "      <td>2020-04-02 to 2020-04-09</td>\n",
              "      <td>Elevated white blood cell count</td>\n",
              "      <td>Chest X-ray</td>\n",
              "      <td>Positive for bacteria</td>\n",
              "      <td>Mechanical ventilation</td>\n",
              "      <td>Shortness of breath, wheezing</td>\n",
              "      <td>Diminished breath sounds</td>\n",
              "      <td>Antibiotics prescribed</td>\n",
              "      <td>VAP</td>\n",
              "    </tr>\n",
              "  </tbody>\n",
              "</table>\n",
              "</div>\n",
              "      <button class=\"colab-df-convert\" onclick=\"convertToInteractive('df-6baaaf98-121c-4e2d-b1d6-68c758619483')\"\n",
              "              title=\"Convert this dataframe to an interactive table.\"\n",
              "              style=\"display:none;\">\n",
              "        \n",
              "  <svg xmlns=\"http://www.w3.org/2000/svg\" height=\"24px\"viewBox=\"0 0 24 24\"\n",
              "       width=\"24px\">\n",
              "    <path d=\"M0 0h24v24H0V0z\" fill=\"none\"/>\n",
              "    <path d=\"M18.56 5.44l.94 2.06.94-2.06 2.06-.94-2.06-.94-.94-2.06-.94 2.06-2.06.94zm-11 1L8.5 8.5l.94-2.06 2.06-.94-2.06-.94L8.5 2.5l-.94 2.06-2.06.94zm10 10l.94 2.06.94-2.06 2.06-.94-2.06-.94-.94-2.06-.94 2.06-2.06.94z\"/><path d=\"M17.41 7.96l-1.37-1.37c-.4-.4-.92-.59-1.43-.59-.52 0-1.04.2-1.43.59L10.3 9.45l-7.72 7.72c-.78.78-.78 2.05 0 2.83L4 21.41c.39.39.9.59 1.41.59.51 0 1.02-.2 1.41-.59l7.78-7.78 2.81-2.81c.8-.78.8-2.07 0-2.86zM5.41 20L4 18.59l7.72-7.72 1.47 1.35L5.41 20z\"/>\n",
              "  </svg>\n",
              "      </button>\n",
              "      \n",
              "  <style>\n",
              "    .colab-df-container {\n",
              "      display:flex;\n",
              "      flex-wrap:wrap;\n",
              "      gap: 12px;\n",
              "    }\n",
              "\n",
              "    .colab-df-convert {\n",
              "      background-color: #E8F0FE;\n",
              "      border: none;\n",
              "      border-radius: 50%;\n",
              "      cursor: pointer;\n",
              "      display: none;\n",
              "      fill: #1967D2;\n",
              "      height: 32px;\n",
              "      padding: 0 0 0 0;\n",
              "      width: 32px;\n",
              "    }\n",
              "\n",
              "    .colab-df-convert:hover {\n",
              "      background-color: #E2EBFA;\n",
              "      box-shadow: 0px 1px 2px rgba(60, 64, 67, 0.3), 0px 1px 3px 1px rgba(60, 64, 67, 0.15);\n",
              "      fill: #174EA6;\n",
              "    }\n",
              "\n",
              "    [theme=dark] .colab-df-convert {\n",
              "      background-color: #3B4455;\n",
              "      fill: #D2E3FC;\n",
              "    }\n",
              "\n",
              "    [theme=dark] .colab-df-convert:hover {\n",
              "      background-color: #434B5C;\n",
              "      box-shadow: 0px 1px 3px 1px rgba(0, 0, 0, 0.15);\n",
              "      filter: drop-shadow(0px 1px 2px rgba(0, 0, 0, 0.3));\n",
              "      fill: #FFFFFF;\n",
              "    }\n",
              "  </style>\n",
              "\n",
              "      <script>\n",
              "        const buttonEl =\n",
              "          document.querySelector('#df-6baaaf98-121c-4e2d-b1d6-68c758619483 button.colab-df-convert');\n",
              "        buttonEl.style.display =\n",
              "          google.colab.kernel.accessAllowed ? 'block' : 'none';\n",
              "\n",
              "        async function convertToInteractive(key) {\n",
              "          const element = document.querySelector('#df-6baaaf98-121c-4e2d-b1d6-68c758619483');\n",
              "          const dataTable =\n",
              "            await google.colab.kernel.invokeFunction('convertToInteractive',\n",
              "                                                     [key], {});\n",
              "          if (!dataTable) return;\n",
              "\n",
              "          const docLinkHtml = 'Like what you see? Visit the ' +\n",
              "            '<a target=\"_blank\" href=https://colab.research.google.com/notebooks/data_table.ipynb>data table notebook</a>'\n",
              "            + ' to learn more about interactive tables.';\n",
              "          element.innerHTML = '';\n",
              "          dataTable['output_type'] = 'display_data';\n",
              "          await google.colab.output.renderOutput(dataTable, element);\n",
              "          const docLink = document.createElement('div');\n",
              "          docLink.innerHTML = docLinkHtml;\n",
              "          element.appendChild(docLink);\n",
              "        }\n",
              "      </script>\n",
              "    </div>\n",
              "  </div>\n",
              "  "
            ]
          },
          "metadata": {},
          "execution_count": 98
        }
      ]
    },
    {
      "cell_type": "code",
      "source": [
        "df.dropna()\n",
        "df.info()"
      ],
      "metadata": {
        "colab": {
          "base_uri": "https://localhost:8080/"
        },
        "id": "oSdEwd85uFIY",
        "outputId": "5bb3c853-1c9e-4451-c265-a7d2a0614435"
      },
      "execution_count": 99,
      "outputs": [
        {
          "output_type": "stream",
          "name": "stdout",
          "text": [
            "<class 'pandas.core.frame.DataFrame'>\n",
            "RangeIndex: 142 entries, 0 to 141\n",
            "Data columns (total 13 columns):\n",
            " #   Column                       Non-Null Count  Dtype \n",
            "---  ------                       --------------  ----- \n",
            " 0   PatientID                    142 non-null    int64 \n",
            " 1   Age                          142 non-null    int64 \n",
            " 2   Sex                          142 non-null    object\n",
            " 3   MedicalHistory               142 non-null    object\n",
            " 4   HospitalizationData          142 non-null    object\n",
            " 5   LaboratoryData               142 non-null    object\n",
            " 6   ImagingData                  99 non-null     object\n",
            " 7   MicrobiologyData             142 non-null    object\n",
            " 8   RiskFactors                  142 non-null    object\n",
            " 9   Symptoms                     142 non-null    object\n",
            " 10  Signs                        135 non-null    object\n",
            " 11  Treatment                    142 non-null    object\n",
            " 12  Hospital_Acquired_Infection  141 non-null    object\n",
            "dtypes: int64(2), object(11)\n",
            "memory usage: 14.5+ KB\n"
          ]
        }
      ]
    },
    {
      "cell_type": "markdown",
      "source": [
        "#finding Y"
      ],
      "metadata": {
        "id": "FsZIGR-JrDGc"
      }
    },
    {
      "cell_type": "code",
      "source": [
        "# df['Hospital_Acquired_Infection'].unique()\n",
        "# df['Hospital_Acquired_Infection'].value_counts()\n",
        "# # df['Hospital_Acquired_Infection']= df['Hospital_Acquired_Infection'].replace(['Gastroenteritis',\n",
        "# #        'Pharyngitis', 'CAP', 'Meningitis'],'other')\n",
        "\n",
        "df['Hospital_Acquired_Infection']= df['Hospital_Acquired_Infection'].map({'other':0,'VAP':1,'UTI':2,'CLABSI':3,'SSI':4,'Respiratory Infection':5})\n",
        "df['Hospital_Acquired_Infection'] = df['Hospital_Acquired_Infection'].replace('None', -1)\n",
        "df['Hospital_Acquired_Infection'] = df['Hospital_Acquired_Infection'].fillna(-1)\n",
        "df['Hospital_Acquired_Infection'].dropna()\n",
        "print(len(df['Hospital_Acquired_Infection']))"
      ],
      "metadata": {
        "colab": {
          "base_uri": "https://localhost:8080/"
        },
        "id": "zNuYJk_Uq1HB",
        "outputId": "991a1d79-7d58-4dd4-b551-06a61422adb4"
      },
      "execution_count": 100,
      "outputs": [
        {
          "output_type": "stream",
          "name": "stdout",
          "text": [
            "142\n"
          ]
        }
      ]
    },
    {
      "cell_type": "code",
      "source": [
        "df['Sex'].value_counts()"
      ],
      "metadata": {
        "colab": {
          "base_uri": "https://localhost:8080/"
        },
        "id": "BEfQTxWBkHwu",
        "outputId": "179db1bc-8e28-430e-f3b4-f780b55baa18"
      },
      "execution_count": 101,
      "outputs": [
        {
          "output_type": "execute_result",
          "data": {
            "text/plain": [
              "M    87\n",
              "F    55\n",
              "Name: Sex, dtype: int64"
            ]
          },
          "metadata": {},
          "execution_count": 101
        }
      ]
    },
    {
      "cell_type": "markdown",
      "source": [
        "#data preprocessing"
      ],
      "metadata": {
        "id": "JoSXt__-iKpg"
      }
    },
    {
      "cell_type": "code",
      "source": [
        "class Processing:\n",
        "    def __init__(self, df):\n",
        "        df1 = df.drop(['PatientID'], axis=1)\n",
        "        df2 = df1\n",
        "        for index, row in df2.iterrows():\n",
        "            try:\n",
        "                start_date_str, end_date_str = row['HospitalizationData'].split(' to ')\n",
        "                start_date = datetime.strptime(start_date_str, '%Y-%m-%d')\n",
        "                end_date = datetime.strptime(end_date_str, '%Y-%m-%d')\n",
        "                days = (end_date - start_date).days\n",
        "                df2.at[index, 'HospitalizationData'] = days\n",
        "            except ValueError:\n",
        "                print(f\"Invalid date range at index {index}: {row['HospitalizationData']}\")\n",
        "        \n",
        "        df2['Sex'] = df2['Sex'].replace(['Female'], 'F')\n",
        "        df2['Sex'] = df2['Sex'].replace(['Male'], 'M')\n",
        "        df2['Sex'] = df2['Sex'].map({'F': 1, 'M': 0}).astype(int)\n",
        "        df2 = df2.replace('None', -1)\n",
        "    \n",
        "        nc = df2.select_dtypes(include=['int', 'float']).columns\n",
        "        tc = df2.select_dtypes(include='object').columns\n",
        "        nd = df2[nc]\n",
        "        td = df2[tc]\n",
        "        scaler = StandardScaler()\n",
        "        std_nd = scaler.fit_transform(nd)\n",
        "        std_nd = pd.DataFrame(std_nd, columns=nd.columns)\n",
        "        \n",
        "        # Text preprocessing\n",
        "        # 1. Lowercase\n",
        "        # for column in td.columns:\n",
        "        #     if df2[column].dtype in [np.int64, np.float64]:\n",
        "        #         continue\n",
        "        #     else:\n",
        "        #         td[column] = td[column].str.lower()\n",
        "        \n",
        "        # 2. Remove punctuation\n",
        "        for column in td.columns:\n",
        "            td[column] = td[column].apply(lambda x: x.translate(str.maketrans('', '', string.punctuation)) if isinstance(x, str) else x)\n",
        "        \n",
        "        # 3. Remove stopwords\n",
        "        for column in td.columns:\n",
        "            stop_words = set(stopwords.words('english'))\n",
        "            td[column] = td[column].apply(lambda x: ' '.join([word for word in str(x).split() if word.lower() not in stop_words]))\n",
        "        \n",
        "        # 4. Lemmatizer\n",
        "        lemmatizer = WordNetLemmatizer()\n",
        "        \n",
        "        def lemmatize_word(word, pos_tag):\n",
        "            if pos_tag.startswith('J'):\n",
        "                pos = wordnet.ADJ\n",
        "            elif pos_tag.startswith('V'):\n",
        "                pos = wordnet.VERB\n",
        "            elif pos_tag.startswith('N'):\n",
        "                pos = wordnet.NOUN\n",
        "            elif pos_tag.startswith('R'):\n",
        "                pos = wordnet.ADV\n",
        "            else:\n",
        "                pos = wordnet.NOUN\n",
        "            return lemmatizer.lemmatize(word, pos)\n",
        "\n",
        "        def lemmatize_column(column):\n",
        "            if column == 'NaN':\n",
        "                return column\n",
        "            elif isinstance(column, str):\n",
        "                tokens = word_tokenize(column)\n",
        "                pos_tags = nltk.pos_tag(tokens)\n",
        "                lemmatized_words = [lemmatize_word(word, pos_tag) for word, pos_tag in pos_tags]\n",
        "                return ' '.join(lemmatized_words)\n",
        "            else:\n",
        "                return column\n",
        "        \n",
        "        for column in td.columns:\n",
        "            td.loc[:, column] = td[column].apply(lemmatize_column)\n",
        "        \n",
        "        # 5. Vectorizer\n",
        "        text_columns = ['MedicalHistory', 'LaboratoryData', 'ImagingData', 'MicrobiologyData',\n",
        "                        'RiskFactors', 'Symptoms', 'Signs', 'Treatment']\n",
        "\n",
        "        td['Combined Text'] = td[text_columns].apply(lambda x: ' '.join(x.dropna().astype(str)), axis=1)\n",
        "\n",
        "        vectorizer = TfidfVectorizer()\n",
        "        vectorized_data = vectorizer.fit_transform(td['Combined Text'])\n",
        "\n",
        "        self.vectorized_df = pd.DataFrame(vectorized_data.toarray(), columns=vectorizer.get_feature_names_out())\n",
        "        self.vectorized_text_data = pd.concat([td, self.vectorized_df], axis=1)\n",
        "        \n",
        "        # 6. Combine data\n",
        "        self.combined_data = pd.concat([nd, self.vectorized_df], axis=1)\n",
        "        self.combined_data = self.combined_data.fillna(-1)\n",
        "        # self.combined_data = self.combined_data.dropna()\n",
        "    \n",
        "    def process_data(self):\n",
        "        return self.combined_data\n"
      ],
      "metadata": {
        "id": "e3Vuc0BShyVD"
      },
      "execution_count": 102,
      "outputs": []
    },
    {
      "cell_type": "code",
      "source": [
        "nltk.download('stopwords')\n",
        "nltk.download('punkt')\n",
        "nltk.download('averaged_perceptron_tagger')\n",
        "nltk.download('wordnet')"
      ],
      "metadata": {
        "id": "Qe7hZ3XZkB59",
        "colab": {
          "base_uri": "https://localhost:8080/"
        },
        "outputId": "bfd8d6ba-ce81-41fb-bd4f-2bc8e6c5a6b5"
      },
      "execution_count": 103,
      "outputs": [
        {
          "output_type": "stream",
          "name": "stderr",
          "text": [
            "[nltk_data] Downloading package stopwords to /root/nltk_data...\n",
            "[nltk_data]   Package stopwords is already up-to-date!\n",
            "[nltk_data] Downloading package punkt to /root/nltk_data...\n",
            "[nltk_data]   Package punkt is already up-to-date!\n",
            "[nltk_data] Downloading package averaged_perceptron_tagger to\n",
            "[nltk_data]     /root/nltk_data...\n",
            "[nltk_data]   Package averaged_perceptron_tagger is already up-to-\n",
            "[nltk_data]       date!\n",
            "[nltk_data] Downloading package wordnet to /root/nltk_data...\n",
            "[nltk_data]   Package wordnet is already up-to-date!\n"
          ]
        },
        {
          "output_type": "execute_result",
          "data": {
            "text/plain": [
              "True"
            ]
          },
          "metadata": {},
          "execution_count": 103
        }
      ]
    },
    {
      "cell_type": "code",
      "source": [
        "processing = Processing(df)\n",
        "combined_data = processing.process_data()"
      ],
      "metadata": {
        "colab": {
          "base_uri": "https://localhost:8080/"
        },
        "id": "H8oofyWqj1Ed",
        "outputId": "608d8241-9e62-4c2c-82d8-d3706a44beb2"
      },
      "execution_count": 104,
      "outputs": [
        {
          "output_type": "stream",
          "name": "stderr",
          "text": [
            "<ipython-input-102-adab19079636>:38: SettingWithCopyWarning: \n",
            "A value is trying to be set on a copy of a slice from a DataFrame.\n",
            "Try using .loc[row_indexer,col_indexer] = value instead\n",
            "\n",
            "See the caveats in the documentation: https://pandas.pydata.org/pandas-docs/stable/user_guide/indexing.html#returning-a-view-versus-a-copy\n",
            "  td[column] = td[column].apply(lambda x: x.translate(str.maketrans('', '', string.punctuation)) if isinstance(x, str) else x)\n",
            "<ipython-input-102-adab19079636>:43: SettingWithCopyWarning: \n",
            "A value is trying to be set on a copy of a slice from a DataFrame.\n",
            "Try using .loc[row_indexer,col_indexer] = value instead\n",
            "\n",
            "See the caveats in the documentation: https://pandas.pydata.org/pandas-docs/stable/user_guide/indexing.html#returning-a-view-versus-a-copy\n",
            "  td[column] = td[column].apply(lambda x: ' '.join([word for word in str(x).split() if word.lower() not in stop_words]))\n",
            "<ipython-input-102-adab19079636>:73: SettingWithCopyWarning: \n",
            "A value is trying to be set on a copy of a slice from a DataFrame.\n",
            "Try using .loc[row_indexer,col_indexer] = value instead\n",
            "\n",
            "See the caveats in the documentation: https://pandas.pydata.org/pandas-docs/stable/user_guide/indexing.html#returning-a-view-versus-a-copy\n",
            "  td.loc[:, column] = td[column].apply(lemmatize_column)\n",
            "<ipython-input-102-adab19079636>:79: SettingWithCopyWarning: \n",
            "A value is trying to be set on a copy of a slice from a DataFrame.\n",
            "Try using .loc[row_indexer,col_indexer] = value instead\n",
            "\n",
            "See the caveats in the documentation: https://pandas.pydata.org/pandas-docs/stable/user_guide/indexing.html#returning-a-view-versus-a-copy\n",
            "  td['Combined Text'] = td[text_columns].apply(lambda x: ' '.join(x.dropna().astype(str)), axis=1)\n"
          ]
        }
      ]
    },
    {
      "cell_type": "code",
      "source": [
        "combined_data.head()\n",
        "# combined_data.info()"
      ],
      "metadata": {
        "id": "TWH_oOxdimC2",
        "colab": {
          "base_uri": "https://localhost:8080/",
          "height": 299
        },
        "outputId": "8250cb2c-6518-4dbf-ebc0-9e827739ab93"
      },
      "execution_count": 105,
      "outputs": [
        {
          "output_type": "execute_result",
          "data": {
            "text/plain": [
              "   Age  Sex  HospitalizationData  Hospital_Acquired_Infection  abdominal  \\\n",
              "0   45    0                    7                          2.0        0.0   \n",
              "1   65    1                    7                          4.0        0.0   \n",
              "2   50    0                    7                          3.0        0.0   \n",
              "3   70    1                    7                         -1.0        0.0   \n",
              "4   55    0                    7                          1.0        0.0   \n",
              "\n",
              "   allergens  angle  antibiotics    asthma  auscultation  ...  urine  \\\n",
              "0        0.0    0.0     0.138927  0.000000      0.000000  ...    0.0   \n",
              "1        0.0    0.0     0.086505  0.000000      0.000000  ...    0.0   \n",
              "2        0.0    0.0     0.138732  0.000000      0.000000  ...    0.0   \n",
              "3        0.0    0.0     0.118375  0.000000      0.396564  ...    0.0   \n",
              "4        0.0    0.0     0.145897  0.206068      0.000000  ...    0.0   \n",
              "\n",
              "        use  uti    venous  ventilation  vomit  wheezing     white  worsen  \\\n",
              "0  0.000000  0.0  0.000000     0.000000    0.0  0.000000  0.000000     0.0   \n",
              "1  0.193911  0.0  0.000000     0.000000    0.0  0.000000  0.104745     0.0   \n",
              "2  0.000000  0.0  0.288397     0.000000    0.0  0.000000  0.000000     0.0   \n",
              "3  0.000000  0.0  0.000000     0.193978    0.0  0.000000  0.143336     0.0   \n",
              "4  0.000000  0.0  0.000000     0.239077    0.0  0.206068  0.176661     0.0   \n",
              "\n",
              "       xray  \n",
              "0  0.194329  \n",
              "1  0.000000  \n",
              "2  0.000000  \n",
              "3  0.165582  \n",
              "4  0.204079  \n",
              "\n",
              "[5 rows x 117 columns]"
            ],
            "text/html": [
              "\n",
              "  <div id=\"df-bce75989-e48a-4efd-982e-d8b7c03b490b\">\n",
              "    <div class=\"colab-df-container\">\n",
              "      <div>\n",
              "<style scoped>\n",
              "    .dataframe tbody tr th:only-of-type {\n",
              "        vertical-align: middle;\n",
              "    }\n",
              "\n",
              "    .dataframe tbody tr th {\n",
              "        vertical-align: top;\n",
              "    }\n",
              "\n",
              "    .dataframe thead th {\n",
              "        text-align: right;\n",
              "    }\n",
              "</style>\n",
              "<table border=\"1\" class=\"dataframe\">\n",
              "  <thead>\n",
              "    <tr style=\"text-align: right;\">\n",
              "      <th></th>\n",
              "      <th>Age</th>\n",
              "      <th>Sex</th>\n",
              "      <th>HospitalizationData</th>\n",
              "      <th>Hospital_Acquired_Infection</th>\n",
              "      <th>abdominal</th>\n",
              "      <th>allergens</th>\n",
              "      <th>angle</th>\n",
              "      <th>antibiotics</th>\n",
              "      <th>asthma</th>\n",
              "      <th>auscultation</th>\n",
              "      <th>...</th>\n",
              "      <th>urine</th>\n",
              "      <th>use</th>\n",
              "      <th>uti</th>\n",
              "      <th>venous</th>\n",
              "      <th>ventilation</th>\n",
              "      <th>vomit</th>\n",
              "      <th>wheezing</th>\n",
              "      <th>white</th>\n",
              "      <th>worsen</th>\n",
              "      <th>xray</th>\n",
              "    </tr>\n",
              "  </thead>\n",
              "  <tbody>\n",
              "    <tr>\n",
              "      <th>0</th>\n",
              "      <td>45</td>\n",
              "      <td>0</td>\n",
              "      <td>7</td>\n",
              "      <td>2.0</td>\n",
              "      <td>0.0</td>\n",
              "      <td>0.0</td>\n",
              "      <td>0.0</td>\n",
              "      <td>0.138927</td>\n",
              "      <td>0.000000</td>\n",
              "      <td>0.000000</td>\n",
              "      <td>...</td>\n",
              "      <td>0.0</td>\n",
              "      <td>0.000000</td>\n",
              "      <td>0.0</td>\n",
              "      <td>0.000000</td>\n",
              "      <td>0.000000</td>\n",
              "      <td>0.0</td>\n",
              "      <td>0.000000</td>\n",
              "      <td>0.000000</td>\n",
              "      <td>0.0</td>\n",
              "      <td>0.194329</td>\n",
              "    </tr>\n",
              "    <tr>\n",
              "      <th>1</th>\n",
              "      <td>65</td>\n",
              "      <td>1</td>\n",
              "      <td>7</td>\n",
              "      <td>4.0</td>\n",
              "      <td>0.0</td>\n",
              "      <td>0.0</td>\n",
              "      <td>0.0</td>\n",
              "      <td>0.086505</td>\n",
              "      <td>0.000000</td>\n",
              "      <td>0.000000</td>\n",
              "      <td>...</td>\n",
              "      <td>0.0</td>\n",
              "      <td>0.193911</td>\n",
              "      <td>0.0</td>\n",
              "      <td>0.000000</td>\n",
              "      <td>0.000000</td>\n",
              "      <td>0.0</td>\n",
              "      <td>0.000000</td>\n",
              "      <td>0.104745</td>\n",
              "      <td>0.0</td>\n",
              "      <td>0.000000</td>\n",
              "    </tr>\n",
              "    <tr>\n",
              "      <th>2</th>\n",
              "      <td>50</td>\n",
              "      <td>0</td>\n",
              "      <td>7</td>\n",
              "      <td>3.0</td>\n",
              "      <td>0.0</td>\n",
              "      <td>0.0</td>\n",
              "      <td>0.0</td>\n",
              "      <td>0.138732</td>\n",
              "      <td>0.000000</td>\n",
              "      <td>0.000000</td>\n",
              "      <td>...</td>\n",
              "      <td>0.0</td>\n",
              "      <td>0.000000</td>\n",
              "      <td>0.0</td>\n",
              "      <td>0.288397</td>\n",
              "      <td>0.000000</td>\n",
              "      <td>0.0</td>\n",
              "      <td>0.000000</td>\n",
              "      <td>0.000000</td>\n",
              "      <td>0.0</td>\n",
              "      <td>0.000000</td>\n",
              "    </tr>\n",
              "    <tr>\n",
              "      <th>3</th>\n",
              "      <td>70</td>\n",
              "      <td>1</td>\n",
              "      <td>7</td>\n",
              "      <td>-1.0</td>\n",
              "      <td>0.0</td>\n",
              "      <td>0.0</td>\n",
              "      <td>0.0</td>\n",
              "      <td>0.118375</td>\n",
              "      <td>0.000000</td>\n",
              "      <td>0.396564</td>\n",
              "      <td>...</td>\n",
              "      <td>0.0</td>\n",
              "      <td>0.000000</td>\n",
              "      <td>0.0</td>\n",
              "      <td>0.000000</td>\n",
              "      <td>0.193978</td>\n",
              "      <td>0.0</td>\n",
              "      <td>0.000000</td>\n",
              "      <td>0.143336</td>\n",
              "      <td>0.0</td>\n",
              "      <td>0.165582</td>\n",
              "    </tr>\n",
              "    <tr>\n",
              "      <th>4</th>\n",
              "      <td>55</td>\n",
              "      <td>0</td>\n",
              "      <td>7</td>\n",
              "      <td>1.0</td>\n",
              "      <td>0.0</td>\n",
              "      <td>0.0</td>\n",
              "      <td>0.0</td>\n",
              "      <td>0.145897</td>\n",
              "      <td>0.206068</td>\n",
              "      <td>0.000000</td>\n",
              "      <td>...</td>\n",
              "      <td>0.0</td>\n",
              "      <td>0.000000</td>\n",
              "      <td>0.0</td>\n",
              "      <td>0.000000</td>\n",
              "      <td>0.239077</td>\n",
              "      <td>0.0</td>\n",
              "      <td>0.206068</td>\n",
              "      <td>0.176661</td>\n",
              "      <td>0.0</td>\n",
              "      <td>0.204079</td>\n",
              "    </tr>\n",
              "  </tbody>\n",
              "</table>\n",
              "<p>5 rows × 117 columns</p>\n",
              "</div>\n",
              "      <button class=\"colab-df-convert\" onclick=\"convertToInteractive('df-bce75989-e48a-4efd-982e-d8b7c03b490b')\"\n",
              "              title=\"Convert this dataframe to an interactive table.\"\n",
              "              style=\"display:none;\">\n",
              "        \n",
              "  <svg xmlns=\"http://www.w3.org/2000/svg\" height=\"24px\"viewBox=\"0 0 24 24\"\n",
              "       width=\"24px\">\n",
              "    <path d=\"M0 0h24v24H0V0z\" fill=\"none\"/>\n",
              "    <path d=\"M18.56 5.44l.94 2.06.94-2.06 2.06-.94-2.06-.94-.94-2.06-.94 2.06-2.06.94zm-11 1L8.5 8.5l.94-2.06 2.06-.94-2.06-.94L8.5 2.5l-.94 2.06-2.06.94zm10 10l.94 2.06.94-2.06 2.06-.94-2.06-.94-.94-2.06-.94 2.06-2.06.94z\"/><path d=\"M17.41 7.96l-1.37-1.37c-.4-.4-.92-.59-1.43-.59-.52 0-1.04.2-1.43.59L10.3 9.45l-7.72 7.72c-.78.78-.78 2.05 0 2.83L4 21.41c.39.39.9.59 1.41.59.51 0 1.02-.2 1.41-.59l7.78-7.78 2.81-2.81c.8-.78.8-2.07 0-2.86zM5.41 20L4 18.59l7.72-7.72 1.47 1.35L5.41 20z\"/>\n",
              "  </svg>\n",
              "      </button>\n",
              "      \n",
              "  <style>\n",
              "    .colab-df-container {\n",
              "      display:flex;\n",
              "      flex-wrap:wrap;\n",
              "      gap: 12px;\n",
              "    }\n",
              "\n",
              "    .colab-df-convert {\n",
              "      background-color: #E8F0FE;\n",
              "      border: none;\n",
              "      border-radius: 50%;\n",
              "      cursor: pointer;\n",
              "      display: none;\n",
              "      fill: #1967D2;\n",
              "      height: 32px;\n",
              "      padding: 0 0 0 0;\n",
              "      width: 32px;\n",
              "    }\n",
              "\n",
              "    .colab-df-convert:hover {\n",
              "      background-color: #E2EBFA;\n",
              "      box-shadow: 0px 1px 2px rgba(60, 64, 67, 0.3), 0px 1px 3px 1px rgba(60, 64, 67, 0.15);\n",
              "      fill: #174EA6;\n",
              "    }\n",
              "\n",
              "    [theme=dark] .colab-df-convert {\n",
              "      background-color: #3B4455;\n",
              "      fill: #D2E3FC;\n",
              "    }\n",
              "\n",
              "    [theme=dark] .colab-df-convert:hover {\n",
              "      background-color: #434B5C;\n",
              "      box-shadow: 0px 1px 3px 1px rgba(0, 0, 0, 0.15);\n",
              "      filter: drop-shadow(0px 1px 2px rgba(0, 0, 0, 0.3));\n",
              "      fill: #FFFFFF;\n",
              "    }\n",
              "  </style>\n",
              "\n",
              "      <script>\n",
              "        const buttonEl =\n",
              "          document.querySelector('#df-bce75989-e48a-4efd-982e-d8b7c03b490b button.colab-df-convert');\n",
              "        buttonEl.style.display =\n",
              "          google.colab.kernel.accessAllowed ? 'block' : 'none';\n",
              "\n",
              "        async function convertToInteractive(key) {\n",
              "          const element = document.querySelector('#df-bce75989-e48a-4efd-982e-d8b7c03b490b');\n",
              "          const dataTable =\n",
              "            await google.colab.kernel.invokeFunction('convertToInteractive',\n",
              "                                                     [key], {});\n",
              "          if (!dataTable) return;\n",
              "\n",
              "          const docLinkHtml = 'Like what you see? Visit the ' +\n",
              "            '<a target=\"_blank\" href=https://colab.research.google.com/notebooks/data_table.ipynb>data table notebook</a>'\n",
              "            + ' to learn more about interactive tables.';\n",
              "          element.innerHTML = '';\n",
              "          dataTable['output_type'] = 'display_data';\n",
              "          await google.colab.output.renderOutput(dataTable, element);\n",
              "          const docLink = document.createElement('div');\n",
              "          docLink.innerHTML = docLinkHtml;\n",
              "          element.appendChild(docLink);\n",
              "        }\n",
              "      </script>\n",
              "    </div>\n",
              "  </div>\n",
              "  "
            ]
          },
          "metadata": {},
          "execution_count": 105
        }
      ]
    },
    {
      "cell_type": "markdown",
      "source": [
        "#model training"
      ],
      "metadata": {
        "id": "AELnT-P-m0GM"
      }
    },
    {
      "cell_type": "code",
      "source": [
        "from sklearn.model_selection import train_test_split\n",
        "from sklearn.svm import SVC\n",
        "from sklearn.metrics import accuracy_score\n",
        "from sklearn.model_selection import cross_val_score\n",
        "from sklearn.ensemble import RandomForestClassifier\n",
        "from sklearn.naive_bayes import GaussianNB\n",
        "from sklearn.model_selection import GridSearchCV\n",
        "from sklearn.ensemble import GradientBoostingClassifier"
      ],
      "metadata": {
        "id": "-2sQ8GEmm2zh"
      },
      "execution_count": 106,
      "outputs": []
    },
    {
      "cell_type": "code",
      "source": [
        "combined_data.info()"
      ],
      "metadata": {
        "id": "3rfXbOfOtDwE",
        "colab": {
          "base_uri": "https://localhost:8080/"
        },
        "outputId": "c03d3133-668b-4214-c152-7b679bc7a842"
      },
      "execution_count": 107,
      "outputs": [
        {
          "output_type": "stream",
          "name": "stdout",
          "text": [
            "<class 'pandas.core.frame.DataFrame'>\n",
            "RangeIndex: 142 entries, 0 to 141\n",
            "Columns: 117 entries, Age to xray\n",
            "dtypes: float64(114), int64(3)\n",
            "memory usage: 129.9 KB\n"
          ]
        }
      ]
    },
    {
      "cell_type": "code",
      "source": [
        "combined_data.head()"
      ],
      "metadata": {
        "colab": {
          "base_uri": "https://localhost:8080/",
          "height": 299
        },
        "id": "Ov4qhoZKqJaP",
        "outputId": "9b5c6707-a99b-45df-b345-4002cef0a487"
      },
      "execution_count": 108,
      "outputs": [
        {
          "output_type": "execute_result",
          "data": {
            "text/plain": [
              "   Age  Sex  HospitalizationData  Hospital_Acquired_Infection  abdominal  \\\n",
              "0   45    0                    7                          2.0        0.0   \n",
              "1   65    1                    7                          4.0        0.0   \n",
              "2   50    0                    7                          3.0        0.0   \n",
              "3   70    1                    7                         -1.0        0.0   \n",
              "4   55    0                    7                          1.0        0.0   \n",
              "\n",
              "   allergens  angle  antibiotics    asthma  auscultation  ...  urine  \\\n",
              "0        0.0    0.0     0.138927  0.000000      0.000000  ...    0.0   \n",
              "1        0.0    0.0     0.086505  0.000000      0.000000  ...    0.0   \n",
              "2        0.0    0.0     0.138732  0.000000      0.000000  ...    0.0   \n",
              "3        0.0    0.0     0.118375  0.000000      0.396564  ...    0.0   \n",
              "4        0.0    0.0     0.145897  0.206068      0.000000  ...    0.0   \n",
              "\n",
              "        use  uti    venous  ventilation  vomit  wheezing     white  worsen  \\\n",
              "0  0.000000  0.0  0.000000     0.000000    0.0  0.000000  0.000000     0.0   \n",
              "1  0.193911  0.0  0.000000     0.000000    0.0  0.000000  0.104745     0.0   \n",
              "2  0.000000  0.0  0.288397     0.000000    0.0  0.000000  0.000000     0.0   \n",
              "3  0.000000  0.0  0.000000     0.193978    0.0  0.000000  0.143336     0.0   \n",
              "4  0.000000  0.0  0.000000     0.239077    0.0  0.206068  0.176661     0.0   \n",
              "\n",
              "       xray  \n",
              "0  0.194329  \n",
              "1  0.000000  \n",
              "2  0.000000  \n",
              "3  0.165582  \n",
              "4  0.204079  \n",
              "\n",
              "[5 rows x 117 columns]"
            ],
            "text/html": [
              "\n",
              "  <div id=\"df-f07b026a-9a1e-4715-8c7c-1ff013977fff\">\n",
              "    <div class=\"colab-df-container\">\n",
              "      <div>\n",
              "<style scoped>\n",
              "    .dataframe tbody tr th:only-of-type {\n",
              "        vertical-align: middle;\n",
              "    }\n",
              "\n",
              "    .dataframe tbody tr th {\n",
              "        vertical-align: top;\n",
              "    }\n",
              "\n",
              "    .dataframe thead th {\n",
              "        text-align: right;\n",
              "    }\n",
              "</style>\n",
              "<table border=\"1\" class=\"dataframe\">\n",
              "  <thead>\n",
              "    <tr style=\"text-align: right;\">\n",
              "      <th></th>\n",
              "      <th>Age</th>\n",
              "      <th>Sex</th>\n",
              "      <th>HospitalizationData</th>\n",
              "      <th>Hospital_Acquired_Infection</th>\n",
              "      <th>abdominal</th>\n",
              "      <th>allergens</th>\n",
              "      <th>angle</th>\n",
              "      <th>antibiotics</th>\n",
              "      <th>asthma</th>\n",
              "      <th>auscultation</th>\n",
              "      <th>...</th>\n",
              "      <th>urine</th>\n",
              "      <th>use</th>\n",
              "      <th>uti</th>\n",
              "      <th>venous</th>\n",
              "      <th>ventilation</th>\n",
              "      <th>vomit</th>\n",
              "      <th>wheezing</th>\n",
              "      <th>white</th>\n",
              "      <th>worsen</th>\n",
              "      <th>xray</th>\n",
              "    </tr>\n",
              "  </thead>\n",
              "  <tbody>\n",
              "    <tr>\n",
              "      <th>0</th>\n",
              "      <td>45</td>\n",
              "      <td>0</td>\n",
              "      <td>7</td>\n",
              "      <td>2.0</td>\n",
              "      <td>0.0</td>\n",
              "      <td>0.0</td>\n",
              "      <td>0.0</td>\n",
              "      <td>0.138927</td>\n",
              "      <td>0.000000</td>\n",
              "      <td>0.000000</td>\n",
              "      <td>...</td>\n",
              "      <td>0.0</td>\n",
              "      <td>0.000000</td>\n",
              "      <td>0.0</td>\n",
              "      <td>0.000000</td>\n",
              "      <td>0.000000</td>\n",
              "      <td>0.0</td>\n",
              "      <td>0.000000</td>\n",
              "      <td>0.000000</td>\n",
              "      <td>0.0</td>\n",
              "      <td>0.194329</td>\n",
              "    </tr>\n",
              "    <tr>\n",
              "      <th>1</th>\n",
              "      <td>65</td>\n",
              "      <td>1</td>\n",
              "      <td>7</td>\n",
              "      <td>4.0</td>\n",
              "      <td>0.0</td>\n",
              "      <td>0.0</td>\n",
              "      <td>0.0</td>\n",
              "      <td>0.086505</td>\n",
              "      <td>0.000000</td>\n",
              "      <td>0.000000</td>\n",
              "      <td>...</td>\n",
              "      <td>0.0</td>\n",
              "      <td>0.193911</td>\n",
              "      <td>0.0</td>\n",
              "      <td>0.000000</td>\n",
              "      <td>0.000000</td>\n",
              "      <td>0.0</td>\n",
              "      <td>0.000000</td>\n",
              "      <td>0.104745</td>\n",
              "      <td>0.0</td>\n",
              "      <td>0.000000</td>\n",
              "    </tr>\n",
              "    <tr>\n",
              "      <th>2</th>\n",
              "      <td>50</td>\n",
              "      <td>0</td>\n",
              "      <td>7</td>\n",
              "      <td>3.0</td>\n",
              "      <td>0.0</td>\n",
              "      <td>0.0</td>\n",
              "      <td>0.0</td>\n",
              "      <td>0.138732</td>\n",
              "      <td>0.000000</td>\n",
              "      <td>0.000000</td>\n",
              "      <td>...</td>\n",
              "      <td>0.0</td>\n",
              "      <td>0.000000</td>\n",
              "      <td>0.0</td>\n",
              "      <td>0.288397</td>\n",
              "      <td>0.000000</td>\n",
              "      <td>0.0</td>\n",
              "      <td>0.000000</td>\n",
              "      <td>0.000000</td>\n",
              "      <td>0.0</td>\n",
              "      <td>0.000000</td>\n",
              "    </tr>\n",
              "    <tr>\n",
              "      <th>3</th>\n",
              "      <td>70</td>\n",
              "      <td>1</td>\n",
              "      <td>7</td>\n",
              "      <td>-1.0</td>\n",
              "      <td>0.0</td>\n",
              "      <td>0.0</td>\n",
              "      <td>0.0</td>\n",
              "      <td>0.118375</td>\n",
              "      <td>0.000000</td>\n",
              "      <td>0.396564</td>\n",
              "      <td>...</td>\n",
              "      <td>0.0</td>\n",
              "      <td>0.000000</td>\n",
              "      <td>0.0</td>\n",
              "      <td>0.000000</td>\n",
              "      <td>0.193978</td>\n",
              "      <td>0.0</td>\n",
              "      <td>0.000000</td>\n",
              "      <td>0.143336</td>\n",
              "      <td>0.0</td>\n",
              "      <td>0.165582</td>\n",
              "    </tr>\n",
              "    <tr>\n",
              "      <th>4</th>\n",
              "      <td>55</td>\n",
              "      <td>0</td>\n",
              "      <td>7</td>\n",
              "      <td>1.0</td>\n",
              "      <td>0.0</td>\n",
              "      <td>0.0</td>\n",
              "      <td>0.0</td>\n",
              "      <td>0.145897</td>\n",
              "      <td>0.206068</td>\n",
              "      <td>0.000000</td>\n",
              "      <td>...</td>\n",
              "      <td>0.0</td>\n",
              "      <td>0.000000</td>\n",
              "      <td>0.0</td>\n",
              "      <td>0.000000</td>\n",
              "      <td>0.239077</td>\n",
              "      <td>0.0</td>\n",
              "      <td>0.206068</td>\n",
              "      <td>0.176661</td>\n",
              "      <td>0.0</td>\n",
              "      <td>0.204079</td>\n",
              "    </tr>\n",
              "  </tbody>\n",
              "</table>\n",
              "<p>5 rows × 117 columns</p>\n",
              "</div>\n",
              "      <button class=\"colab-df-convert\" onclick=\"convertToInteractive('df-f07b026a-9a1e-4715-8c7c-1ff013977fff')\"\n",
              "              title=\"Convert this dataframe to an interactive table.\"\n",
              "              style=\"display:none;\">\n",
              "        \n",
              "  <svg xmlns=\"http://www.w3.org/2000/svg\" height=\"24px\"viewBox=\"0 0 24 24\"\n",
              "       width=\"24px\">\n",
              "    <path d=\"M0 0h24v24H0V0z\" fill=\"none\"/>\n",
              "    <path d=\"M18.56 5.44l.94 2.06.94-2.06 2.06-.94-2.06-.94-.94-2.06-.94 2.06-2.06.94zm-11 1L8.5 8.5l.94-2.06 2.06-.94-2.06-.94L8.5 2.5l-.94 2.06-2.06.94zm10 10l.94 2.06.94-2.06 2.06-.94-2.06-.94-.94-2.06-.94 2.06-2.06.94z\"/><path d=\"M17.41 7.96l-1.37-1.37c-.4-.4-.92-.59-1.43-.59-.52 0-1.04.2-1.43.59L10.3 9.45l-7.72 7.72c-.78.78-.78 2.05 0 2.83L4 21.41c.39.39.9.59 1.41.59.51 0 1.02-.2 1.41-.59l7.78-7.78 2.81-2.81c.8-.78.8-2.07 0-2.86zM5.41 20L4 18.59l7.72-7.72 1.47 1.35L5.41 20z\"/>\n",
              "  </svg>\n",
              "      </button>\n",
              "      \n",
              "  <style>\n",
              "    .colab-df-container {\n",
              "      display:flex;\n",
              "      flex-wrap:wrap;\n",
              "      gap: 12px;\n",
              "    }\n",
              "\n",
              "    .colab-df-convert {\n",
              "      background-color: #E8F0FE;\n",
              "      border: none;\n",
              "      border-radius: 50%;\n",
              "      cursor: pointer;\n",
              "      display: none;\n",
              "      fill: #1967D2;\n",
              "      height: 32px;\n",
              "      padding: 0 0 0 0;\n",
              "      width: 32px;\n",
              "    }\n",
              "\n",
              "    .colab-df-convert:hover {\n",
              "      background-color: #E2EBFA;\n",
              "      box-shadow: 0px 1px 2px rgba(60, 64, 67, 0.3), 0px 1px 3px 1px rgba(60, 64, 67, 0.15);\n",
              "      fill: #174EA6;\n",
              "    }\n",
              "\n",
              "    [theme=dark] .colab-df-convert {\n",
              "      background-color: #3B4455;\n",
              "      fill: #D2E3FC;\n",
              "    }\n",
              "\n",
              "    [theme=dark] .colab-df-convert:hover {\n",
              "      background-color: #434B5C;\n",
              "      box-shadow: 0px 1px 3px 1px rgba(0, 0, 0, 0.15);\n",
              "      filter: drop-shadow(0px 1px 2px rgba(0, 0, 0, 0.3));\n",
              "      fill: #FFFFFF;\n",
              "    }\n",
              "  </style>\n",
              "\n",
              "      <script>\n",
              "        const buttonEl =\n",
              "          document.querySelector('#df-f07b026a-9a1e-4715-8c7c-1ff013977fff button.colab-df-convert');\n",
              "        buttonEl.style.display =\n",
              "          google.colab.kernel.accessAllowed ? 'block' : 'none';\n",
              "\n",
              "        async function convertToInteractive(key) {\n",
              "          const element = document.querySelector('#df-f07b026a-9a1e-4715-8c7c-1ff013977fff');\n",
              "          const dataTable =\n",
              "            await google.colab.kernel.invokeFunction('convertToInteractive',\n",
              "                                                     [key], {});\n",
              "          if (!dataTable) return;\n",
              "\n",
              "          const docLinkHtml = 'Like what you see? Visit the ' +\n",
              "            '<a target=\"_blank\" href=https://colab.research.google.com/notebooks/data_table.ipynb>data table notebook</a>'\n",
              "            + ' to learn more about interactive tables.';\n",
              "          element.innerHTML = '';\n",
              "          dataTable['output_type'] = 'display_data';\n",
              "          await google.colab.output.renderOutput(dataTable, element);\n",
              "          const docLink = document.createElement('div');\n",
              "          docLink.innerHTML = docLinkHtml;\n",
              "          element.appendChild(docLink);\n",
              "        }\n",
              "      </script>\n",
              "    </div>\n",
              "  </div>\n",
              "  "
            ]
          },
          "metadata": {},
          "execution_count": 108
        }
      ]
    },
    {
      "cell_type": "code",
      "source": [
        "combined_data['Hospital_Acquired_Infection'].value_counts()"
      ],
      "metadata": {
        "colab": {
          "base_uri": "https://localhost:8080/"
        },
        "id": "eXMFfJEYtpfO",
        "outputId": "28cda812-d347-4c70-e5e9-a15be3a65229"
      },
      "execution_count": 133,
      "outputs": [
        {
          "output_type": "execute_result",
          "data": {
            "text/plain": [
              " 5.0    38\n",
              " 1.0    35\n",
              " 2.0    23\n",
              "-1.0    20\n",
              " 3.0    18\n",
              " 4.0     8\n",
              "Name: Hospital_Acquired_Infection, dtype: int64"
            ]
          },
          "metadata": {},
          "execution_count": 133
        }
      ]
    },
    {
      "cell_type": "code",
      "source": [
        "df['Hospital_Acquired_Infection'].info()"
      ],
      "metadata": {
        "id": "WDLmyCm-tJFc",
        "colab": {
          "base_uri": "https://localhost:8080/"
        },
        "outputId": "837a3eb1-cf97-46fe-99e7-f7697a09100b"
      },
      "execution_count": 109,
      "outputs": [
        {
          "output_type": "stream",
          "name": "stdout",
          "text": [
            "<class 'pandas.core.series.Series'>\n",
            "RangeIndex: 142 entries, 0 to 141\n",
            "Series name: Hospital_Acquired_Infection\n",
            "Non-Null Count  Dtype  \n",
            "--------------  -----  \n",
            "142 non-null    float64\n",
            "dtypes: float64(1)\n",
            "memory usage: 1.2 KB\n"
          ]
        }
      ]
    },
    {
      "cell_type": "code",
      "source": [
        "X = combined_data.drop('Hospital_Acquired_Infection', axis=1)\n",
        "\n",
        "y = combined_data['Hospital_Acquired_Infection']\n",
        "X.info()\n",
        "print(len(X)\n",
        ")\n",
        "print(len(y))\n",
        "# len(X) == len(y)\n",
        "X_train, X_test, y_train, y_test = train_test_split(X, y, test_size=0.2, random_state=42)"
      ],
      "metadata": {
        "colab": {
          "base_uri": "https://localhost:8080/"
        },
        "id": "6wlBcGn1m3MP",
        "outputId": "b842bb22-66eb-4446-c5b8-3e59e5485e21"
      },
      "execution_count": 110,
      "outputs": [
        {
          "output_type": "stream",
          "name": "stdout",
          "text": [
            "<class 'pandas.core.frame.DataFrame'>\n",
            "RangeIndex: 142 entries, 0 to 141\n",
            "Columns: 116 entries, Age to xray\n",
            "dtypes: float64(113), int64(3)\n",
            "memory usage: 128.8 KB\n",
            "142\n",
            "142\n"
          ]
        }
      ]
    },
    {
      "cell_type": "code",
      "source": [
        "# X_train.to_csv('hai_X_train.csv', index=False)\n"
      ],
      "metadata": {
        "id": "G_oHueOV8e0X"
      },
      "execution_count": 151,
      "outputs": []
    },
    {
      "cell_type": "code",
      "source": [
        "import pandas as pd\n",
        "\n",
        "# Read the CSV file\n",
        "df = pd.read_csv('/content/hai_X_train.csv')\n",
        "\n",
        "# Get the first row as a separate DataFrame\n",
        "# first_row = df.head(1)\n",
        "df.head(1)"
      ],
      "metadata": {
        "id": "kx_lR7Li9Wb2",
        "colab": {
          "base_uri": "https://localhost:8080/",
          "height": 174
        },
        "outputId": "f35981e5-3cd9-4220-ee2e-d7a46a36dd2a"
      },
      "execution_count": 152,
      "outputs": [
        {
          "output_type": "execute_result",
          "data": {
            "text/plain": [
              "   Age  Sex  HospitalizationData  abdominal  allergens  angle  antibiotics  \\\n",
              "0   48    0                    7        0.0   0.220517    0.0          0.0   \n",
              "\n",
              "     asthma  auscultation  bacteria  ...  urine  use  uti  venous  \\\n",
              "0  0.393376           0.0       0.0  ...    0.0  0.0  0.0     0.0   \n",
              "\n",
              "   ventilation  vomit  wheezing  white  worsen      xray  \n",
              "0          0.0    0.0  0.196688    0.0     0.0  0.194789  \n",
              "\n",
              "[1 rows x 116 columns]"
            ],
            "text/html": [
              "\n",
              "  <div id=\"df-5437d227-7901-4fdc-bfc7-0db3d4b7d159\">\n",
              "    <div class=\"colab-df-container\">\n",
              "      <div>\n",
              "<style scoped>\n",
              "    .dataframe tbody tr th:only-of-type {\n",
              "        vertical-align: middle;\n",
              "    }\n",
              "\n",
              "    .dataframe tbody tr th {\n",
              "        vertical-align: top;\n",
              "    }\n",
              "\n",
              "    .dataframe thead th {\n",
              "        text-align: right;\n",
              "    }\n",
              "</style>\n",
              "<table border=\"1\" class=\"dataframe\">\n",
              "  <thead>\n",
              "    <tr style=\"text-align: right;\">\n",
              "      <th></th>\n",
              "      <th>Age</th>\n",
              "      <th>Sex</th>\n",
              "      <th>HospitalizationData</th>\n",
              "      <th>abdominal</th>\n",
              "      <th>allergens</th>\n",
              "      <th>angle</th>\n",
              "      <th>antibiotics</th>\n",
              "      <th>asthma</th>\n",
              "      <th>auscultation</th>\n",
              "      <th>bacteria</th>\n",
              "      <th>...</th>\n",
              "      <th>urine</th>\n",
              "      <th>use</th>\n",
              "      <th>uti</th>\n",
              "      <th>venous</th>\n",
              "      <th>ventilation</th>\n",
              "      <th>vomit</th>\n",
              "      <th>wheezing</th>\n",
              "      <th>white</th>\n",
              "      <th>worsen</th>\n",
              "      <th>xray</th>\n",
              "    </tr>\n",
              "  </thead>\n",
              "  <tbody>\n",
              "    <tr>\n",
              "      <th>0</th>\n",
              "      <td>48</td>\n",
              "      <td>0</td>\n",
              "      <td>7</td>\n",
              "      <td>0.0</td>\n",
              "      <td>0.220517</td>\n",
              "      <td>0.0</td>\n",
              "      <td>0.0</td>\n",
              "      <td>0.393376</td>\n",
              "      <td>0.0</td>\n",
              "      <td>0.0</td>\n",
              "      <td>...</td>\n",
              "      <td>0.0</td>\n",
              "      <td>0.0</td>\n",
              "      <td>0.0</td>\n",
              "      <td>0.0</td>\n",
              "      <td>0.0</td>\n",
              "      <td>0.0</td>\n",
              "      <td>0.196688</td>\n",
              "      <td>0.0</td>\n",
              "      <td>0.0</td>\n",
              "      <td>0.194789</td>\n",
              "    </tr>\n",
              "  </tbody>\n",
              "</table>\n",
              "<p>1 rows × 116 columns</p>\n",
              "</div>\n",
              "      <button class=\"colab-df-convert\" onclick=\"convertToInteractive('df-5437d227-7901-4fdc-bfc7-0db3d4b7d159')\"\n",
              "              title=\"Convert this dataframe to an interactive table.\"\n",
              "              style=\"display:none;\">\n",
              "        \n",
              "  <svg xmlns=\"http://www.w3.org/2000/svg\" height=\"24px\"viewBox=\"0 0 24 24\"\n",
              "       width=\"24px\">\n",
              "    <path d=\"M0 0h24v24H0V0z\" fill=\"none\"/>\n",
              "    <path d=\"M18.56 5.44l.94 2.06.94-2.06 2.06-.94-2.06-.94-.94-2.06-.94 2.06-2.06.94zm-11 1L8.5 8.5l.94-2.06 2.06-.94-2.06-.94L8.5 2.5l-.94 2.06-2.06.94zm10 10l.94 2.06.94-2.06 2.06-.94-2.06-.94-.94-2.06-.94 2.06-2.06.94z\"/><path d=\"M17.41 7.96l-1.37-1.37c-.4-.4-.92-.59-1.43-.59-.52 0-1.04.2-1.43.59L10.3 9.45l-7.72 7.72c-.78.78-.78 2.05 0 2.83L4 21.41c.39.39.9.59 1.41.59.51 0 1.02-.2 1.41-.59l7.78-7.78 2.81-2.81c.8-.78.8-2.07 0-2.86zM5.41 20L4 18.59l7.72-7.72 1.47 1.35L5.41 20z\"/>\n",
              "  </svg>\n",
              "      </button>\n",
              "      \n",
              "  <style>\n",
              "    .colab-df-container {\n",
              "      display:flex;\n",
              "      flex-wrap:wrap;\n",
              "      gap: 12px;\n",
              "    }\n",
              "\n",
              "    .colab-df-convert {\n",
              "      background-color: #E8F0FE;\n",
              "      border: none;\n",
              "      border-radius: 50%;\n",
              "      cursor: pointer;\n",
              "      display: none;\n",
              "      fill: #1967D2;\n",
              "      height: 32px;\n",
              "      padding: 0 0 0 0;\n",
              "      width: 32px;\n",
              "    }\n",
              "\n",
              "    .colab-df-convert:hover {\n",
              "      background-color: #E2EBFA;\n",
              "      box-shadow: 0px 1px 2px rgba(60, 64, 67, 0.3), 0px 1px 3px 1px rgba(60, 64, 67, 0.15);\n",
              "      fill: #174EA6;\n",
              "    }\n",
              "\n",
              "    [theme=dark] .colab-df-convert {\n",
              "      background-color: #3B4455;\n",
              "      fill: #D2E3FC;\n",
              "    }\n",
              "\n",
              "    [theme=dark] .colab-df-convert:hover {\n",
              "      background-color: #434B5C;\n",
              "      box-shadow: 0px 1px 3px 1px rgba(0, 0, 0, 0.15);\n",
              "      filter: drop-shadow(0px 1px 2px rgba(0, 0, 0, 0.3));\n",
              "      fill: #FFFFFF;\n",
              "    }\n",
              "  </style>\n",
              "\n",
              "      <script>\n",
              "        const buttonEl =\n",
              "          document.querySelector('#df-5437d227-7901-4fdc-bfc7-0db3d4b7d159 button.colab-df-convert');\n",
              "        buttonEl.style.display =\n",
              "          google.colab.kernel.accessAllowed ? 'block' : 'none';\n",
              "\n",
              "        async function convertToInteractive(key) {\n",
              "          const element = document.querySelector('#df-5437d227-7901-4fdc-bfc7-0db3d4b7d159');\n",
              "          const dataTable =\n",
              "            await google.colab.kernel.invokeFunction('convertToInteractive',\n",
              "                                                     [key], {});\n",
              "          if (!dataTable) return;\n",
              "\n",
              "          const docLinkHtml = 'Like what you see? Visit the ' +\n",
              "            '<a target=\"_blank\" href=https://colab.research.google.com/notebooks/data_table.ipynb>data table notebook</a>'\n",
              "            + ' to learn more about interactive tables.';\n",
              "          element.innerHTML = '';\n",
              "          dataTable['output_type'] = 'display_data';\n",
              "          await google.colab.output.renderOutput(dataTable, element);\n",
              "          const docLink = document.createElement('div');\n",
              "          docLink.innerHTML = docLinkHtml;\n",
              "          element.appendChild(docLink);\n",
              "        }\n",
              "      </script>\n",
              "    </div>\n",
              "  </div>\n",
              "  "
            ]
          },
          "metadata": {},
          "execution_count": 152
        }
      ]
    },
    {
      "cell_type": "code",
      "source": [
        "# # svm\n",
        "svm = SVC()\n",
        "svm.fit(X_train, y_train)\n",
        "\n",
        "y_pred = svm.predict(X_test)\n",
        "svm_accuracy = accuracy_score(y_test, y_pred)*100\n",
        "print(\"Accuracy:\", svm_accuracy, \"%\")\n",
        "\n",
        "svm_score = cross_val_score(svm, X_train, y_train, cv=6)\n",
        "print('svm cross validation score',round(svm_score.mean()*100,2).astype(str),'%' )\n",
        "\n"
      ],
      "metadata": {
        "id": "S1oQKpr3m7l9",
        "colab": {
          "base_uri": "https://localhost:8080/"
        },
        "outputId": "52e83dc2-cc9d-4dc3-92bc-48a749c0128a"
      },
      "execution_count": 113,
      "outputs": [
        {
          "output_type": "stream",
          "name": "stdout",
          "text": [
            "Accuracy: 34.48275862068966 %\n",
            "svm cross validation score 31.92 %\n"
          ]
        }
      ]
    },
    {
      "cell_type": "code",
      "source": [
        "# Random Forest Classifer\n",
        "rf = RandomForestClassifier(n_estimators=100, random_state=47)\n",
        "rf.fit(X_train, y_train)\n",
        "\n",
        "y_pred = rf.predict(X_test)\n",
        "rf_accuracy = accuracy_score(y_test, y_pred)*100\n",
        "print(\"Accuracy:\", rf_accuracy, \"%\")\n",
        "\n",
        "# rf_score = cross_val_score(rf, X_train, y_train, cv=6)\n",
        "print('rfc cross validation score',round(rf_score.mean()*100,2).astype(str),'%' )"
      ],
      "metadata": {
        "colab": {
          "base_uri": "https://localhost:8080/",
          "height": 244
        },
        "id": "p-ErnXdinFmf",
        "outputId": "2fa3c71b-726f-4a55-dac2-69c8392d0e28"
      },
      "execution_count": 157,
      "outputs": [
        {
          "output_type": "stream",
          "name": "stdout",
          "text": [
            "Accuracy: 100.0 %\n"
          ]
        },
        {
          "output_type": "error",
          "ename": "TypeError",
          "evalue": "ignored",
          "traceback": [
            "\u001b[0;31m---------------------------------------------------------------------------\u001b[0m",
            "\u001b[0;31mTypeError\u001b[0m                                 Traceback (most recent call last)",
            "\u001b[0;32m<ipython-input-157-981ee7c715c7>\u001b[0m in \u001b[0;36m<cell line: 9>\u001b[0;34m()\u001b[0m\n\u001b[1;32m      7\u001b[0m \u001b[0mprint\u001b[0m\u001b[0;34m(\u001b[0m\u001b[0;34m\"Accuracy:\"\u001b[0m\u001b[0;34m,\u001b[0m \u001b[0mrf_accuracy\u001b[0m\u001b[0;34m,\u001b[0m \u001b[0;34m\"%\"\u001b[0m\u001b[0;34m)\u001b[0m\u001b[0;34m\u001b[0m\u001b[0;34m\u001b[0m\u001b[0m\n\u001b[1;32m      8\u001b[0m \u001b[0;34m\u001b[0m\u001b[0m\n\u001b[0;32m----> 9\u001b[0;31m \u001b[0mrf_score\u001b[0m \u001b[0;34m=\u001b[0m \u001b[0mcross_val_score\u001b[0m\u001b[0;34m(\u001b[0m\u001b[0mrf\u001b[0m\u001b[0;34m,\u001b[0m \u001b[0mX_train\u001b[0m\u001b[0;34m,\u001b[0m \u001b[0my_train\u001b[0m\u001b[0;34m,\u001b[0m \u001b[0mcv\u001b[0m\u001b[0;34m=\u001b[0m\u001b[0;36m6\u001b[0m\u001b[0;34m)\u001b[0m\u001b[0;34m\u001b[0m\u001b[0;34m\u001b[0m\u001b[0m\n\u001b[0m\u001b[1;32m     10\u001b[0m \u001b[0mprint\u001b[0m\u001b[0;34m(\u001b[0m\u001b[0;34m'rfc cross validation score'\u001b[0m\u001b[0;34m,\u001b[0m\u001b[0mround\u001b[0m\u001b[0;34m(\u001b[0m\u001b[0mrf_score\u001b[0m\u001b[0;34m.\u001b[0m\u001b[0mmean\u001b[0m\u001b[0;34m(\u001b[0m\u001b[0;34m)\u001b[0m\u001b[0;34m*\u001b[0m\u001b[0;36m100\u001b[0m\u001b[0;34m,\u001b[0m\u001b[0;36m2\u001b[0m\u001b[0;34m)\u001b[0m\u001b[0;34m.\u001b[0m\u001b[0mastype\u001b[0m\u001b[0;34m(\u001b[0m\u001b[0mstr\u001b[0m\u001b[0;34m)\u001b[0m\u001b[0;34m,\u001b[0m\u001b[0;34m'%'\u001b[0m \u001b[0;34m)\u001b[0m\u001b[0;34m\u001b[0m\u001b[0;34m\u001b[0m\u001b[0m\n",
            "\u001b[0;31mTypeError\u001b[0m: 'list' object is not callable"
          ]
        }
      ]
    },
    {
      "cell_type": "code",
      "source": [
        "#  Naive bayes\n",
        "nb = GaussianNB()\n",
        "nb.fit(X_train, y_train)\n",
        "\n",
        "y_pred = nb.predict(X_test)\n",
        "nb_accuracy = accuracy_score(y_test, y_pred)*100\n",
        "print(\"Accuracy:\", nb_accuracy, \"%\")\n",
        "\n",
        "nb_score= cross_val_score(nb,X_train,y_train,cv=6)\n",
        "print('naive bayes cross validation score',round(nb_score.mean()*100,2).astype(str),'%' )"
      ],
      "metadata": {
        "id": "0j1sprZsnF1s",
        "colab": {
          "base_uri": "https://localhost:8080/"
        },
        "outputId": "0fdea0a5-56d9-43ab-d51f-448b3a601880"
      },
      "execution_count": 115,
      "outputs": [
        {
          "output_type": "stream",
          "name": "stdout",
          "text": [
            "Accuracy: 100.0 %\n",
            "naive bayes cross validation score 95.57 %\n"
          ]
        }
      ]
    },
    {
      "cell_type": "code",
      "source": [
        "# GridSearchCV\n",
        "svc_params = {'C': [0.5, 0.7, 0.9, 1], 'kernel': ['rbf', 'poly', 'sigmoid', 'linear']}\n",
        "grid_svc = GridSearchCV(SVC(), svc_params)\n",
        "grid_svc.fit(X_train, y_train)\n",
        "svc = grid_svc.best_estimator_\n",
        "\n",
        "y_pred = grid_svc.predict(X_test)\n",
        "svc_accuracy = accuracy_score(y_test, y_pred)*100\n",
        "print(\"Accuracy:\", nb_accuracy, \"%\")\n",
        "\n",
        "svc_score= cross_val_score(svc,X_train,y_train,cv=6)\n",
        "print('svc cross validation score',round(svc_score.mean()*100,2).astype(str),'%' )"
      ],
      "metadata": {
        "id": "W1Po5cmJnGGT",
        "colab": {
          "base_uri": "https://localhost:8080/"
        },
        "outputId": "0023f596-1463-4c8f-826c-602b3077004f"
      },
      "execution_count": 116,
      "outputs": [
        {
          "output_type": "stream",
          "name": "stdout",
          "text": [
            "Accuracy: 100.0 %\n",
            "svc cross validation score 96.44 %\n"
          ]
        }
      ]
    },
    {
      "cell_type": "code",
      "source": [
        "# # Gradient boost classifier\n",
        "# xgb= GradientBoostingClassifier(n_estimators = 300,max_depth=1,subsample=0.8,max_features=0.2,random_state=42)\n",
        "# xgb.fit(X_train,y_train)\n",
        "# y_pred= xgb.predict(X_test)\n",
        "# xgb_accuracy= accuracy_score(y_test,y_pred)*100\n",
        "# print(\"Accuracy\",xgb_accuracy)\n",
        "\n",
        "\n",
        "# xgb_score= cross_val_score(xgb,X_train,y_train,cv=4)\n",
        "# print('Gradient Xboost cross validation score', round(xgb_score.mean()*100,2).astype(str),'%')\n"
      ],
      "metadata": {
        "id": "wfocYHw4JPXB"
      },
      "execution_count": 117,
      "outputs": []
    },
    {
      "cell_type": "markdown",
      "source": [
        "#Visualization"
      ],
      "metadata": {
        "id": "o1t_jdSwKnXU"
      }
    },
    {
      "cell_type": "code",
      "source": [
        "algorithms = [\"SVM\",\"Random Forest\", \"Gaussian NB\",\"GridSearchCV\"]\n",
        "accuracy = [svm_accuracy, rf_accuracy, nb_accuracy,svc_accuracy]\n",
        "# cross_val_score = [svm_score,rf_score,nb_score,xgb_score,svc_score]\n",
        "cross_val_score = [round(svm_score.mean()*100,2),round(rf_score.mean()*100,2),round(nb_score.mean()*100,2),round(svc_score.mean()*100,2)]\n",
        "\n",
        "results = pd.DataFrame({\"Algorithm\": algorithms, \"Accuracy\": accuracy, \"cross_val_score\": cross_val_score})\n",
        "results.head()"
      ],
      "metadata": {
        "colab": {
          "base_uri": "https://localhost:8080/",
          "height": 175
        },
        "id": "hM7MO4e8KmzQ",
        "outputId": "bc994995-96b4-4a62-a1da-402ebb051552"
      },
      "execution_count": 120,
      "outputs": [
        {
          "output_type": "execute_result",
          "data": {
            "text/plain": [
              "       Algorithm    Accuracy  cross_val_score\n",
              "0            SVM   34.482759            31.92\n",
              "1  Random Forest  100.000000            95.57\n",
              "2    Gaussian NB  100.000000            95.57\n",
              "3   GridSearchCV  100.000000            96.44"
            ],
            "text/html": [
              "\n",
              "  <div id=\"df-0c534a2c-e87c-401b-a051-d1369dde4867\">\n",
              "    <div class=\"colab-df-container\">\n",
              "      <div>\n",
              "<style scoped>\n",
              "    .dataframe tbody tr th:only-of-type {\n",
              "        vertical-align: middle;\n",
              "    }\n",
              "\n",
              "    .dataframe tbody tr th {\n",
              "        vertical-align: top;\n",
              "    }\n",
              "\n",
              "    .dataframe thead th {\n",
              "        text-align: right;\n",
              "    }\n",
              "</style>\n",
              "<table border=\"1\" class=\"dataframe\">\n",
              "  <thead>\n",
              "    <tr style=\"text-align: right;\">\n",
              "      <th></th>\n",
              "      <th>Algorithm</th>\n",
              "      <th>Accuracy</th>\n",
              "      <th>cross_val_score</th>\n",
              "    </tr>\n",
              "  </thead>\n",
              "  <tbody>\n",
              "    <tr>\n",
              "      <th>0</th>\n",
              "      <td>SVM</td>\n",
              "      <td>34.482759</td>\n",
              "      <td>31.92</td>\n",
              "    </tr>\n",
              "    <tr>\n",
              "      <th>1</th>\n",
              "      <td>Random Forest</td>\n",
              "      <td>100.000000</td>\n",
              "      <td>95.57</td>\n",
              "    </tr>\n",
              "    <tr>\n",
              "      <th>2</th>\n",
              "      <td>Gaussian NB</td>\n",
              "      <td>100.000000</td>\n",
              "      <td>95.57</td>\n",
              "    </tr>\n",
              "    <tr>\n",
              "      <th>3</th>\n",
              "      <td>GridSearchCV</td>\n",
              "      <td>100.000000</td>\n",
              "      <td>96.44</td>\n",
              "    </tr>\n",
              "  </tbody>\n",
              "</table>\n",
              "</div>\n",
              "      <button class=\"colab-df-convert\" onclick=\"convertToInteractive('df-0c534a2c-e87c-401b-a051-d1369dde4867')\"\n",
              "              title=\"Convert this dataframe to an interactive table.\"\n",
              "              style=\"display:none;\">\n",
              "        \n",
              "  <svg xmlns=\"http://www.w3.org/2000/svg\" height=\"24px\"viewBox=\"0 0 24 24\"\n",
              "       width=\"24px\">\n",
              "    <path d=\"M0 0h24v24H0V0z\" fill=\"none\"/>\n",
              "    <path d=\"M18.56 5.44l.94 2.06.94-2.06 2.06-.94-2.06-.94-.94-2.06-.94 2.06-2.06.94zm-11 1L8.5 8.5l.94-2.06 2.06-.94-2.06-.94L8.5 2.5l-.94 2.06-2.06.94zm10 10l.94 2.06.94-2.06 2.06-.94-2.06-.94-.94-2.06-.94 2.06-2.06.94z\"/><path d=\"M17.41 7.96l-1.37-1.37c-.4-.4-.92-.59-1.43-.59-.52 0-1.04.2-1.43.59L10.3 9.45l-7.72 7.72c-.78.78-.78 2.05 0 2.83L4 21.41c.39.39.9.59 1.41.59.51 0 1.02-.2 1.41-.59l7.78-7.78 2.81-2.81c.8-.78.8-2.07 0-2.86zM5.41 20L4 18.59l7.72-7.72 1.47 1.35L5.41 20z\"/>\n",
              "  </svg>\n",
              "      </button>\n",
              "      \n",
              "  <style>\n",
              "    .colab-df-container {\n",
              "      display:flex;\n",
              "      flex-wrap:wrap;\n",
              "      gap: 12px;\n",
              "    }\n",
              "\n",
              "    .colab-df-convert {\n",
              "      background-color: #E8F0FE;\n",
              "      border: none;\n",
              "      border-radius: 50%;\n",
              "      cursor: pointer;\n",
              "      display: none;\n",
              "      fill: #1967D2;\n",
              "      height: 32px;\n",
              "      padding: 0 0 0 0;\n",
              "      width: 32px;\n",
              "    }\n",
              "\n",
              "    .colab-df-convert:hover {\n",
              "      background-color: #E2EBFA;\n",
              "      box-shadow: 0px 1px 2px rgba(60, 64, 67, 0.3), 0px 1px 3px 1px rgba(60, 64, 67, 0.15);\n",
              "      fill: #174EA6;\n",
              "    }\n",
              "\n",
              "    [theme=dark] .colab-df-convert {\n",
              "      background-color: #3B4455;\n",
              "      fill: #D2E3FC;\n",
              "    }\n",
              "\n",
              "    [theme=dark] .colab-df-convert:hover {\n",
              "      background-color: #434B5C;\n",
              "      box-shadow: 0px 1px 3px 1px rgba(0, 0, 0, 0.15);\n",
              "      filter: drop-shadow(0px 1px 2px rgba(0, 0, 0, 0.3));\n",
              "      fill: #FFFFFF;\n",
              "    }\n",
              "  </style>\n",
              "\n",
              "      <script>\n",
              "        const buttonEl =\n",
              "          document.querySelector('#df-0c534a2c-e87c-401b-a051-d1369dde4867 button.colab-df-convert');\n",
              "        buttonEl.style.display =\n",
              "          google.colab.kernel.accessAllowed ? 'block' : 'none';\n",
              "\n",
              "        async function convertToInteractive(key) {\n",
              "          const element = document.querySelector('#df-0c534a2c-e87c-401b-a051-d1369dde4867');\n",
              "          const dataTable =\n",
              "            await google.colab.kernel.invokeFunction('convertToInteractive',\n",
              "                                                     [key], {});\n",
              "          if (!dataTable) return;\n",
              "\n",
              "          const docLinkHtml = 'Like what you see? Visit the ' +\n",
              "            '<a target=\"_blank\" href=https://colab.research.google.com/notebooks/data_table.ipynb>data table notebook</a>'\n",
              "            + ' to learn more about interactive tables.';\n",
              "          element.innerHTML = '';\n",
              "          dataTable['output_type'] = 'display_data';\n",
              "          await google.colab.output.renderOutput(dataTable, element);\n",
              "          const docLink = document.createElement('div');\n",
              "          docLink.innerHTML = docLinkHtml;\n",
              "          element.appendChild(docLink);\n",
              "        }\n",
              "      </script>\n",
              "    </div>\n",
              "  </div>\n",
              "  "
            ]
          },
          "metadata": {},
          "execution_count": 120
        }
      ]
    },
    {
      "cell_type": "code",
      "source": [
        "# x-axis values (e.g., number of iterations or epochs)\n",
        "x_values = [1, 2, 3, 4]\n",
        "acc= results['Accuracy']\n",
        "cv_scores= results['cross_val_score']\n",
        "\n",
        "plt.plot(x_values, results['Accuracy'], marker='o', label='Accuracy')\n",
        "plt.plot(x_values, results['cross_val_score'], marker='o', label='Cross-Validation')\n",
        "\n",
        "# Adding labels and title\n",
        "plt.xlabel('Iterations')\n",
        "plt.ylabel('Score')\n",
        "plt.title('Accuracy Scores vs. Cross-Validation Scores')\n",
        "\n",
        "for i in range(len(x_values)):\n",
        "    plt.annotate(f'{acc[i]:.2f}', (x_values[i], acc[i]), \n",
        "                 textcoords=\"offset points\", xytext=(0, 10), ha='center')\n",
        "    plt.annotate(f'{cv_scores[i]:.2f}', (x_values[i], cv_scores[i]), \n",
        "                 textcoords=\"offset points\", xytext=(0, -20), ha='center')\n",
        "\n",
        "# Adding a legend\n",
        "plt.legend()\n",
        "\n",
        "# Display the plot\n",
        "plt.show()"
      ],
      "metadata": {
        "colab": {
          "base_uri": "https://localhost:8080/",
          "height": 472
        },
        "id": "iqR7vVv2K8ty",
        "outputId": "ddf9c1e9-a064-4d93-cb63-ad88ff033d42"
      },
      "execution_count": 122,
      "outputs": [
        {
          "output_type": "display_data",
          "data": {
            "text/plain": [
              "<Figure size 640x480 with 1 Axes>"
            ],
            "image/png": "[encoded data removed]"
          },
          "metadata": {}
        }
      ]
    },
    {
      "cell_type": "code",
      "source": [
        "# grouped bar chart\n",
        "algorithms = [\"SVM\",\"Random Forest\", \"Gaussian NB\",\"GridSearchCV\"]\n",
        "accuracy = [svm_accuracy, rf_accuracy, nb_accuracy,svc_accuracy]\n",
        "# cross_val_score = [svm_score,rf_score,nb_score,xgb_score,svc_score]\n",
        "cross_val_score = [round(svm_score.mean()*100,2),round(rf_score.mean()*100,2),round(nb_score.mean()*100,2), round(svc_score.mean()*100,2)]\n",
        "\n",
        "bar_width = 0.35\n",
        "index = np.arange(len(algorithms))\n",
        "\n",
        "plt.bar(index, accuracy, bar_width, label='Accuracy')\n",
        "plt.bar(index + bar_width, cross_val_score, bar_width, label='Cross-Val Accuracy')\n",
        "\n",
        "plt.xlabel('Algorithms')\n",
        "plt.ylabel('Accuracy and Cross-val')\n",
        "plt.title('Accuracy and Cross-Val Accuracy for Different Algorithms')\n",
        "plt.xticks(index + bar_width / 2, algorithms, rotation='vertical')\n",
        "plt.legend()\n",
        "\n",
        "plt.tight_layout()\n",
        "plt.show()\n",
        "\n",
        "\n"
      ],
      "metadata": {
        "colab": {
          "base_uri": "https://localhost:8080/",
          "height": 487
        },
        "id": "3lAifoVlNSkN",
        "outputId": "f5fd16de-42c7-4c8c-938b-0b43b009d627"
      },
      "execution_count": 123,
      "outputs": [
        {
          "output_type": "display_data",
          "data": {
            "text/plain": [
              "<Figure size 640x480 with 1 Axes>"
            ],
            "image/png": "[encoded data removed]"
          },
          "metadata": {}
        }
      ]
    },
    {
      "cell_type": "code",
      "source": [
        "from sklearn.metrics import classification_report\n",
        "\n",
        "\n",
        "y_pred_svm = svm.predict(X_test)\n",
        "y_pred_rf = rf.predict(X_test)\n",
        "y_pred_nb = nb.predict(X_test)\n",
        "y_pred_xgb = xgb.predict(X_test)\n",
        "\n",
        "print('Support Vector Classifier:')\n",
        "print(classification_report(y_test, y_pred_svm))\n",
        "\n",
        "print('Random Forest Classifier:')\n",
        "print(classification_report(y_test, y_pred_rf))\n",
        "\n",
        "print('Naive Bayes:')\n",
        "print(classification_report(y_test, y_pred_nb))\n",
        "\n",
        "# print('Xgboost:')\n",
        "# print(classification_report(y_test, y_pred_xgb))"
      ],
      "metadata": {
        "colab": {
          "base_uri": "https://localhost:8080/"
        },
        "id": "GbORqK-MLZr4",
        "outputId": "a1a440d0-3490-4080-f3c5-bbf3a21e4987"
      },
      "execution_count": 124,
      "outputs": [
        {
          "output_type": "stream",
          "name": "stdout",
          "text": [
            "Support Vector Classifier:\n",
            "              precision    recall  f1-score   support\n",
            "\n",
            "        -1.0       0.00      0.00      0.00         8\n",
            "         1.0       0.33      0.43      0.38         7\n",
            "         2.0       0.00      0.00      0.00         3\n",
            "         3.0       0.00      0.00      0.00         4\n",
            "         5.0       0.35      1.00      0.52         7\n",
            "\n",
            "    accuracy                           0.34        29\n",
            "   macro avg       0.14      0.29      0.18        29\n",
            "weighted avg       0.16      0.34      0.22        29\n",
            "\n",
            "Random Forest Classifier:\n",
            "              precision    recall  f1-score   support\n",
            "\n",
            "        -1.0       1.00      1.00      1.00         8\n",
            "         1.0       1.00      1.00      1.00         7\n",
            "         2.0       1.00      1.00      1.00         3\n",
            "         3.0       1.00      1.00      1.00         4\n",
            "         5.0       1.00      1.00      1.00         7\n",
            "\n",
            "    accuracy                           1.00        29\n",
            "   macro avg       1.00      1.00      1.00        29\n",
            "weighted avg       1.00      1.00      1.00        29\n",
            "\n",
            "Naive Bayes:\n",
            "              precision    recall  f1-score   support\n",
            "\n",
            "        -1.0       1.00      1.00      1.00         8\n",
            "         1.0       1.00      1.00      1.00         7\n",
            "         2.0       1.00      1.00      1.00         3\n",
            "         3.0       1.00      1.00      1.00         4\n",
            "         5.0       1.00      1.00      1.00         7\n",
            "\n",
            "    accuracy                           1.00        29\n",
            "   macro avg       1.00      1.00      1.00        29\n",
            "weighted avg       1.00      1.00      1.00        29\n",
            "\n"
          ]
        },
        {
          "output_type": "stream",
          "name": "stderr",
          "text": [
            "/usr/local/lib/python3.10/dist-packages/sklearn/metrics/_classification.py:1344: UndefinedMetricWarning: Precision and F-score are ill-defined and being set to 0.0 in labels with no predicted samples. Use `zero_division` parameter to control this behavior.\n",
            "  _warn_prf(average, modifier, msg_start, len(result))\n",
            "/usr/local/lib/python3.10/dist-packages/sklearn/metrics/_classification.py:1344: UndefinedMetricWarning: Precision and F-score are ill-defined and being set to 0.0 in labels with no predicted samples. Use `zero_division` parameter to control this behavior.\n",
            "  _warn_prf(average, modifier, msg_start, len(result))\n",
            "/usr/local/lib/python3.10/dist-packages/sklearn/metrics/_classification.py:1344: UndefinedMetricWarning: Precision and F-score are ill-defined and being set to 0.0 in labels with no predicted samples. Use `zero_division` parameter to control this behavior.\n",
            "  _warn_prf(average, modifier, msg_start, len(result))\n"
          ]
        }
      ]
    },
    {
      "cell_type": "markdown",
      "source": [
        "#output predicting"
      ],
      "metadata": {
        "id": "Enb961F7xwsY"
      }
    },
    {
      "cell_type": "code",
      "source": [
        "data_list = [1, 45, 'M', 'Asthma, Hypertension', '2023-01-05 to 2023-01-12', 'Blood Test: Normal, X-ray: Clear', 'MRI: No abnormalities', 'NonNasal swab: Positive for influenzae', 'Obesity, Smoking', 'Cough, Fever', 'Elevated heart rate', 'Antibiotics']\n",
        "columns = ['PatientID','Age', 'Sex','MedicalHistory', 'HospitalizationData', 'LaboratoryData', 'ImagingData', 'MicrobiologyData', 'RiskFactors', 'Symptoms', 'Signs', 'Treatment']\n",
        "df_new = pd.DataFrame([data_list], columns=columns)\n",
        "test_df = Processing(df_new)\n",
        "X_data = test_df.process_data()\n",
        "X_data.head()\n",
        "\n",
        "# Step 1: Get feature names used during training\n",
        "feature_names_training = X_train.columns.tolist()\n",
        "\n",
        "# Step 2: Align feature names in test data\n",
        "feature_names_test = X_data.columns.tolist()\n",
        "\n",
        "# Step 3: Identify unseen features in test data\n",
        "unseen_features = set(feature_names_test) - set(feature_names_training)\n",
        "\n",
        "# Step 4: Drop unseen features from test data\n",
        "X_data = X_data.drop(unseen_features, axis=1)\n",
        "\n",
        "# Step 5: Reorder features in test data to match the order in training data\n",
        "X_data = X_data.reindex(columns=feature_names_training, fill_value=0)\n",
        "\n",
        "# # Step 6: Make predictions using the Random Forest classifier\n",
        "# predict = rf.predict(X_data)\n",
        "# print(predict)\n"
      ],
      "metadata": {
        "colab": {
          "base_uri": "https://localhost:8080/"
        },
        "id": "-Tj0aqEfktqV",
        "outputId": "ac052e12-2f49-4a5c-b4a3-8c7b5b1277b2"
      },
      "execution_count": 125,
      "outputs": [
        {
          "output_type": "stream",
          "name": "stderr",
          "text": [
            "<ipython-input-102-adab19079636>:38: SettingWithCopyWarning: \n",
            "A value is trying to be set on a copy of a slice from a DataFrame.\n",
            "Try using .loc[row_indexer,col_indexer] = value instead\n",
            "\n",
            "See the caveats in the documentation: https://pandas.pydata.org/pandas-docs/stable/user_guide/indexing.html#returning-a-view-versus-a-copy\n",
            "  td[column] = td[column].apply(lambda x: x.translate(str.maketrans('', '', string.punctuation)) if isinstance(x, str) else x)\n",
            "<ipython-input-102-adab19079636>:43: SettingWithCopyWarning: \n",
            "A value is trying to be set on a copy of a slice from a DataFrame.\n",
            "Try using .loc[row_indexer,col_indexer] = value instead\n",
            "\n",
            "See the caveats in the documentation: https://pandas.pydata.org/pandas-docs/stable/user_guide/indexing.html#returning-a-view-versus-a-copy\n",
            "  td[column] = td[column].apply(lambda x: ' '.join([word for word in str(x).split() if word.lower() not in stop_words]))\n",
            "<ipython-input-102-adab19079636>:73: SettingWithCopyWarning: \n",
            "A value is trying to be set on a copy of a slice from a DataFrame.\n",
            "Try using .loc[row_indexer,col_indexer] = value instead\n",
            "\n",
            "See the caveats in the documentation: https://pandas.pydata.org/pandas-docs/stable/user_guide/indexing.html#returning-a-view-versus-a-copy\n",
            "  td.loc[:, column] = td[column].apply(lemmatize_column)\n",
            "<ipython-input-102-adab19079636>:79: SettingWithCopyWarning: \n",
            "A value is trying to be set on a copy of a slice from a DataFrame.\n",
            "Try using .loc[row_indexer,col_indexer] = value instead\n",
            "\n",
            "See the caveats in the documentation: https://pandas.pydata.org/pandas-docs/stable/user_guide/indexing.html#returning-a-view-versus-a-copy\n",
            "  td['Combined Text'] = td[text_columns].apply(lambda x: ' '.join(x.dropna().astype(str)), axis=1)\n"
          ]
        }
      ]
    },
    {
      "cell_type": "code",
      "source": [
        "# predict = grid_svc.predict(X_data)\n",
        "predict = rf.predict(X_data)\n",
        "predict = predict.astype(int)\n",
        "print(predict)"
      ],
      "metadata": {
        "colab": {
          "base_uri": "https://localhost:8080/"
        },
        "id": "R9RMCB2lauwC",
        "outputId": "4d5eff3f-67b8-41db-81cb-da9f16f47dd6"
      },
      "execution_count": 146,
      "outputs": [
        {
          "output_type": "stream",
          "name": "stdout",
          "text": [
            "[3]\n"
          ]
        }
      ]
    },
    {
      "cell_type": "code",
      "source": [
        "# Define a dictionary to map the numeric labels to their corresponding strings\n",
        "label_mapping = {-1: 'None', 0: 'other' , 1 : 'VAP', 2 : 'UTI', 3 : 'CLABSI', 4: 'SSI', 5 : 'Respiratory Infection'}\n",
        "predict = [3.]\n",
        "# Map the predicted values to their corresponding strings\n",
        "predict_strings = [label_mapping[label] for label in predict]\n",
        "# Print the predicted strings\n",
        "for prediction in predict_strings:\n",
        "    print(prediction)"
      ],
      "metadata": {
        "colab": {
          "base_uri": "https://localhost:8080/"
        },
        "id": "-7y_oyIZk8B7",
        "outputId": "9797bed1-4878-4939-9e32-cd61e8f61c80"
      },
      "execution_count": 156,
      "outputs": [
        {
          "output_type": "stream",
          "name": "stdout",
          "text": [
            "CLABSI\n"
          ]
        }
      ]
    },
    {
      "cell_type": "markdown",
      "source": [
        "#saving the model"
      ],
      "metadata": {
        "id": "fEd2yZVhnNlj"
      }
    },
    {
      "cell_type": "code",
      "source": [
        "# !pip install joblib"
      ],
      "metadata": {
        "id": "cA6KL2SOnZo5",
        "colab": {
          "base_uri": "https://localhost:8080/"
        },
        "outputId": "6709eac2-f133-4ec4-ffa5-9094555a8d18"
      },
      "execution_count": 148,
      "outputs": [
        {
          "output_type": "stream",
          "name": "stdout",
          "text": [
            "Looking in indexes: https://pypi.org/simple, https://us-python.pkg.dev/colab-wheels/public/simple/\n",
            "Requirement already satisfied: joblib in /usr/local/lib/python3.10/dist-packages (1.2.0)\n"
          ]
        }
      ]
    },
    {
      "cell_type": "code",
      "source": [
        "# import pickle\n",
        "\n",
        "# filename = 'hai_pred_model.sav'\n",
        "# pickle.dump(rf, open(filename, 'wb'))\n",
        "\n"
      ],
      "metadata": {
        "id": "RBdpzxlRnLtb"
      },
      "execution_count": 149,
      "outputs": []
    },
    {
      "cell_type": "code",
      "source": [
        "# loading the model\n",
        "model = pickle.load(open('hai_pred_model.sav', 'rb'))\n",
        "\n",
        "predict = model.predict(X_data)\n",
        "print(predict)"
      ],
      "metadata": {
        "colab": {
          "base_uri": "https://localhost:8080/"
        },
        "id": "dwezrbFUpFQ3",
        "outputId": "aad51598-55a5-4cf7-ce09-9ea5f5522fa9"
      },
      "execution_count": 150,
      "outputs": [
        {
          "output_type": "stream",
          "name": "stdout",
          "text": [
            "[3.]\n"
          ]
        }
      ]
    }
  ]
}