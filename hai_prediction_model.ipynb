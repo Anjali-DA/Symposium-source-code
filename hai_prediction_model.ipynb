{
  "nbformat": 4,
  "nbformat_minor": 0,
  "metadata": {
    "colab": {
      "provenance": [],
      "mount_file_id": "1X3dFDE2bCHBn4RdVvxkb6WYJzbChWruU",
      "authorship_tag": "ABX9TyN3BVuFMW40yhHvPll0VNc2",
      "include_colab_link": true
    },
    "kernelspec": {
      "name": "python3",
      "display_name": "Python 3"
    },
    "language_info": {
      "name": "python"
    }
  },
  "cells": [
    {
      "cell_type": "markdown",
      "metadata": {
        "id": "view-in-github",
        "colab_type": "text"
      },
      "source": [
        "<a href=\"https://colab.research.google.com/github/Anjali-DA/Symposium-source-code/blob/main/hai_prediction_model.ipynb\" target=\"_parent\"><img src=\"https://colab.research.google.com/assets/colab-badge.svg\" alt=\"Open In Colab\"/></a>"
      ]
    },
    {
      "cell_type": "code",
      "execution_count": 21,
      "metadata": {
        "id": "nOuORTvlhwwp"
      },
      "outputs": [],
      "source": [
        "import pandas as pd\n",
        "import numpy as np\n",
        "import seaborn as sns\n",
        "import matplotlib.pyplot as plt\n",
        "import string\n",
        "# Standardization \n",
        "from sklearn.preprocessing import StandardScaler\n",
        "import nltk\n",
        "# remove stopwords\n",
        "from nltk.corpus import stopwords\n",
        "# lemmatization & pos tagging\n",
        "from nltk import pos_tag\n",
        "from nltk.corpus import wordnet\n",
        "from nltk.tokenize import word_tokenize\n",
        "from nltk.stem import WordNetLemmatizer\n",
        "\n",
        "from sklearn.feature_extraction.text import TfidfVectorizer\n",
        "\n",
        "from datetime import datetime\n"
      ]
    },
    {
      "cell_type": "code",
      "source": [
        "df= pd.read_csv('/content/drive/MyDrive/Colab Notebooks/dataset/HAI_dataset.csv')"
      ],
      "metadata": {
        "id": "V9adov8siU0y"
      },
      "execution_count": 22,
      "outputs": []
    },
    {
      "cell_type": "code",
      "source": [
        "df.dropna()\n",
        "df.info()"
      ],
      "metadata": {
        "colab": {
          "base_uri": "https://localhost:8080/"
        },
        "id": "oSdEwd85uFIY",
        "outputId": "348fdc76-c57c-41cd-b2f7-54d4aed3e45c"
      },
      "execution_count": 23,
      "outputs": [
        {
          "output_type": "stream",
          "name": "stdout",
          "text": [
            "<class 'pandas.core.frame.DataFrame'>\n",
            "RangeIndex: 199 entries, 0 to 198\n",
            "Data columns (total 13 columns):\n",
            " #   Column                Non-Null Count  Dtype \n",
            "---  ------                --------------  ----- \n",
            " 0   Patient ID            199 non-null    int64 \n",
            " 1   Age                   199 non-null    int64 \n",
            " 2   Sex                   199 non-null    object\n",
            " 3   Medical History       199 non-null    object\n",
            " 4   Hospitalization Data  199 non-null    object\n",
            " 5   Laboratory Data       199 non-null    object\n",
            " 6   Imaging Data          199 non-null    object\n",
            " 7   Microbiology Data     199 non-null    object\n",
            " 8   Risk Factors          199 non-null    object\n",
            " 9   Symptoms              199 non-null    object\n",
            " 10  Signs                 198 non-null    object\n",
            " 11  Treatment             198 non-null    object\n",
            " 12  HAI Name              198 non-null    object\n",
            "dtypes: int64(2), object(11)\n",
            "memory usage: 20.3+ KB\n"
          ]
        }
      ]
    },
    {
      "cell_type": "markdown",
      "source": [
        "#finding Y"
      ],
      "metadata": {
        "id": "FsZIGR-JrDGc"
      }
    },
    {
      "cell_type": "code",
      "source": [
        "df['HAI Name'].unique()\n",
        "df['HAI Name']= df['HAI Name'].replace(['Migraine', 'Allergic Rhinitis',\n",
        "       'NAFLD (Non-Alcoholic Fatty Liver Disease)', 'Type 2 Diabetes',\n",
        "       'Osteoporotic Fracture', 'Hypertensive Heart Disease', 'Asthma',\n",
        "       'Cardiovascular Disease', 'Hypothyroidism',\n",
        "       'Breast Cancer', 'Allergic Dermatitis', 'Hypertensive Diabetes',\n",
        "       'Diabetic Hypertension', 'Fracture', 'Hypertensive Kidney Disease',\n",
        "     'Diabetic Infection', 'Bone Infection',\n",
        "       'Cardiovascular Infection', 'Hypertensive Infection','Myocardial Infarction', 'Osteoarthritis', 'COPD', 'Hypertension',\n",
        "       'Fatty Liver Disease', 'Coronary Artery Disease',\n",
        "       'Asthma exacerbation','Hypertension, Non-alcoholic fatty liver disease', 'Heart failure',\n",
        "       'Hypertensive cerebrovascular disease'],'other')\n",
        "\n",
        "df['HAI Name']= df['HAI Name'].map({'other':0,'Pneumonia':1,'Influenza':2,'Unspecified Infection':3,'COVID-19':4,'Respiratory Infection':5})\n",
        "df['HAI Name'] = df['HAI Name'].replace('None', -1)\n",
        "df['HAI Name'] = df['HAI Name'].fillna(-1)\n",
        "df['HAI Name'].dropna()\n",
        "print(len(df['HAI Name']))"
      ],
      "metadata": {
        "colab": {
          "base_uri": "https://localhost:8080/"
        },
        "id": "zNuYJk_Uq1HB",
        "outputId": "bce9a251-3061-4c8b-dca3-fb47db90b522"
      },
      "execution_count": 24,
      "outputs": [
        {
          "output_type": "stream",
          "name": "stdout",
          "text": [
            "199\n"
          ]
        }
      ]
    },
    {
      "cell_type": "markdown",
      "source": [
        "#data preprocessing"
      ],
      "metadata": {
        "id": "JoSXt__-iKpg"
      }
    },
    {
      "cell_type": "code",
      "source": [
        "class Processing:\n",
        "    def __init__(self, df):\n",
        "        df1 = df.drop(['Patient ID'], axis=1)\n",
        "        df2 = df1\n",
        "        for index, row in df2.iterrows():\n",
        "            try:\n",
        "                start_date_str, end_date_str = row['Hospitalization Data'].split(' to ')\n",
        "                start_date = datetime.strptime(start_date_str, '%Y-%m-%d')\n",
        "                end_date = datetime.strptime(end_date_str, '%Y-%m-%d')\n",
        "                days = (end_date - start_date).days\n",
        "                df2.at[index, 'Hospitalization Data'] = days\n",
        "            except ValueError:\n",
        "                print(f\"Invalid date range at index {index}: {row['Hospitalization Data']}\")\n",
        "        \n",
        "        df2['Sex'] = df2['Sex'].replace(['Female'], 'F')\n",
        "        df2['Sex'] = df2['Sex'].replace(['Male'], 'M')\n",
        "        df2['Sex'] = df2['Sex'].map({'F': 1, 'M': 0}).astype(int)\n",
        "        df2 = df2.replace('None', -1)\n",
        "    \n",
        "        nc = df2.select_dtypes(include=['int', 'float']).columns\n",
        "        tc = df2.select_dtypes(include='object').columns\n",
        "        nd = df2[nc]\n",
        "        td = df2[tc]\n",
        "        scaler = StandardScaler()\n",
        "        std_nd = scaler.fit_transform(nd)\n",
        "        std_nd = pd.DataFrame(std_nd, columns=nd.columns)\n",
        "        \n",
        "        # Text preprocessing\n",
        "        # 1. Lowercase\n",
        "        # for column in td.columns:\n",
        "        #     if df2[column].dtype in [np.int64, np.float64]:\n",
        "        #         continue\n",
        "        #     else:\n",
        "        #         td[column] = td[column].str.lower()\n",
        "        \n",
        "        # 2. Remove punctuation\n",
        "        for column in td.columns:\n",
        "            td[column] = td[column].apply(lambda x: x.translate(str.maketrans('', '', string.punctuation)) if isinstance(x, str) else x)\n",
        "        \n",
        "        # 3. Remove stopwords\n",
        "        for column in td.columns:\n",
        "            stop_words = set(stopwords.words('english'))\n",
        "            td[column] = td[column].apply(lambda x: ' '.join([word for word in str(x).split() if word.lower() not in stop_words]))\n",
        "        \n",
        "        # 4. Lemmatizer\n",
        "        lemmatizer = WordNetLemmatizer()\n",
        "        \n",
        "        def lemmatize_word(word, pos_tag):\n",
        "            if pos_tag.startswith('J'):\n",
        "                pos = wordnet.ADJ\n",
        "            elif pos_tag.startswith('V'):\n",
        "                pos = wordnet.VERB\n",
        "            elif pos_tag.startswith('N'):\n",
        "                pos = wordnet.NOUN\n",
        "            elif pos_tag.startswith('R'):\n",
        "                pos = wordnet.ADV\n",
        "            else:\n",
        "                pos = wordnet.NOUN\n",
        "            return lemmatizer.lemmatize(word, pos)\n",
        "\n",
        "        def lemmatize_column(column):\n",
        "            if column == 'NaN':\n",
        "                return column\n",
        "            elif isinstance(column, str):\n",
        "                tokens = word_tokenize(column)\n",
        "                pos_tags = nltk.pos_tag(tokens)\n",
        "                lemmatized_words = [lemmatize_word(word, pos_tag) for word, pos_tag in pos_tags]\n",
        "                return ' '.join(lemmatized_words)\n",
        "            else:\n",
        "                return column\n",
        "        \n",
        "        for column in td.columns:\n",
        "            td.loc[:, column] = td[column].apply(lemmatize_column)\n",
        "        \n",
        "        # 5. Vectorizer\n",
        "        text_columns = ['Medical History', 'Laboratory Data', 'Imaging Data', 'Microbiology Data',\n",
        "                        'Risk Factors', 'Symptoms', 'Signs', 'Treatment']\n",
        "\n",
        "        td['Combined Text'] = td[text_columns].apply(lambda x: ' '.join(x.dropna().astype(str)), axis=1)\n",
        "\n",
        "        vectorizer = TfidfVectorizer()\n",
        "        vectorized_data = vectorizer.fit_transform(td['Combined Text'])\n",
        "\n",
        "        self.vectorized_df = pd.DataFrame(vectorized_data.toarray(), columns=vectorizer.get_feature_names_out())\n",
        "        self.vectorized_text_data = pd.concat([td, self.vectorized_df], axis=1)\n",
        "        \n",
        "        # 6. Combine data\n",
        "        self.combined_data = pd.concat([nd, self.vectorized_df], axis=1)\n",
        "        self.combined_data = self.combined_data.fillna(-1)\n",
        "        # self.combined_data = self.combined_data.dropna()\n",
        "    \n",
        "    def process_data(self):\n",
        "        return self.combined_data\n"
      ],
      "metadata": {
        "id": "e3Vuc0BShyVD"
      },
      "execution_count": 25,
      "outputs": []
    },
    {
      "cell_type": "code",
      "source": [
        "# nltk.download('stopwords')\n",
        "# nltk.download('punkt')\n",
        "# nltk.download('averaged_perceptron_tagger')\n",
        "# nltk.download('wordnet')"
      ],
      "metadata": {
        "id": "Qe7hZ3XZkB59"
      },
      "execution_count": 26,
      "outputs": []
    },
    {
      "cell_type": "code",
      "source": [
        "processing = Processing(df)\n",
        "combined_data = processing.process_data()"
      ],
      "metadata": {
        "colab": {
          "base_uri": "https://localhost:8080/"
        },
        "id": "H8oofyWqj1Ed",
        "outputId": "7149558f-4faa-453b-e2c3-349d521fee48"
      },
      "execution_count": 27,
      "outputs": [
        {
          "output_type": "stream",
          "name": "stderr",
          "text": [
            "<ipython-input-25-51035550c803>:38: SettingWithCopyWarning: \n",
            "A value is trying to be set on a copy of a slice from a DataFrame.\n",
            "Try using .loc[row_indexer,col_indexer] = value instead\n",
            "\n",
            "See the caveats in the documentation: https://pandas.pydata.org/pandas-docs/stable/user_guide/indexing.html#returning-a-view-versus-a-copy\n",
            "  td[column] = td[column].apply(lambda x: x.translate(str.maketrans('', '', string.punctuation)) if isinstance(x, str) else x)\n",
            "<ipython-input-25-51035550c803>:43: SettingWithCopyWarning: \n",
            "A value is trying to be set on a copy of a slice from a DataFrame.\n",
            "Try using .loc[row_indexer,col_indexer] = value instead\n",
            "\n",
            "See the caveats in the documentation: https://pandas.pydata.org/pandas-docs/stable/user_guide/indexing.html#returning-a-view-versus-a-copy\n",
            "  td[column] = td[column].apply(lambda x: ' '.join([word for word in str(x).split() if word.lower() not in stop_words]))\n",
            "<ipython-input-25-51035550c803>:73: SettingWithCopyWarning: \n",
            "A value is trying to be set on a copy of a slice from a DataFrame.\n",
            "Try using .loc[row_indexer,col_indexer] = value instead\n",
            "\n",
            "See the caveats in the documentation: https://pandas.pydata.org/pandas-docs/stable/user_guide/indexing.html#returning-a-view-versus-a-copy\n",
            "  td.loc[:, column] = td[column].apply(lemmatize_column)\n",
            "<ipython-input-25-51035550c803>:79: SettingWithCopyWarning: \n",
            "A value is trying to be set on a copy of a slice from a DataFrame.\n",
            "Try using .loc[row_indexer,col_indexer] = value instead\n",
            "\n",
            "See the caveats in the documentation: https://pandas.pydata.org/pandas-docs/stable/user_guide/indexing.html#returning-a-view-versus-a-copy\n",
            "  td['Combined Text'] = td[text_columns].apply(lambda x: ' '.join(x.dropna().astype(str)), axis=1)\n"
          ]
        }
      ]
    },
    {
      "cell_type": "code",
      "source": [
        "combined_data.head()\n",
        "# combined_data.info()"
      ],
      "metadata": {
        "id": "TWH_oOxdimC2",
        "colab": {
          "base_uri": "https://localhost:8080/",
          "height": 317
        },
        "outputId": "dd47523e-359f-468e-c119-3a48a4a77355"
      },
      "execution_count": 28,
      "outputs": [
        {
          "output_type": "execute_result",
          "data": {
            "text/plain": [
              "   Age  Sex  Hospitalization Data  HAI Name  abdomen  abdominal  abnormal  \\\n",
              "0   45    0                     7       1.0      0.0   0.000000  0.000000   \n",
              "1   32    1                     8       2.0      0.0   0.000000  0.167199   \n",
              "2   60    0                     7       0.0      0.0   0.000000  0.000000   \n",
              "3   28    1                     6       0.0      0.0   0.000000  0.000000   \n",
              "4   50    0                     8       0.0      0.0   0.272157  0.000000   \n",
              "\n",
              "   abnormality   alcohol  allergens  ...  urine  visual  wall  wbc  weak  \\\n",
              "0     0.000000  0.000000        0.0  ...    0.0     0.0   0.0  0.0   0.0   \n",
              "1     0.000000  0.000000        0.0  ...    0.0     0.0   0.0  0.0   0.0   \n",
              "2     0.469022  0.000000        0.0  ...    0.0     0.0   0.0  0.0   0.0   \n",
              "3     0.000000  0.000000        0.0  ...    0.0     0.0   0.0  0.0   0.0   \n",
              "4     0.000000  0.314017        0.0  ...    0.0     0.0   0.0  0.0   0.0   \n",
              "\n",
              "   weakness  weight  wheezing     white      xray  \n",
              "0       0.0     0.0       0.0  0.000000  0.163416  \n",
              "1       0.0     0.0       0.0  0.000000  0.000000  \n",
              "2       0.0     0.0       0.0  0.000000  0.176446  \n",
              "3       0.0     0.0       0.0  0.349131  0.000000  \n",
              "4       0.0     0.0       0.0  0.000000  0.000000  \n",
              "\n",
              "[5 rows x 226 columns]"
            ],
            "text/html": [
              "\n",
              "  <div id=\"df-1761ef02-6eb4-4bfd-854b-db0d63cc3286\">\n",
              "    <div class=\"colab-df-container\">\n",
              "      <div>\n",
              "<style scoped>\n",
              "    .dataframe tbody tr th:only-of-type {\n",
              "        vertical-align: middle;\n",
              "    }\n",
              "\n",
              "    .dataframe tbody tr th {\n",
              "        vertical-align: top;\n",
              "    }\n",
              "\n",
              "    .dataframe thead th {\n",
              "        text-align: right;\n",
              "    }\n",
              "</style>\n",
              "<table border=\"1\" class=\"dataframe\">\n",
              "  <thead>\n",
              "    <tr style=\"text-align: right;\">\n",
              "      <th></th>\n",
              "      <th>Age</th>\n",
              "      <th>Sex</th>\n",
              "      <th>Hospitalization Data</th>\n",
              "      <th>HAI Name</th>\n",
              "      <th>abdomen</th>\n",
              "      <th>abdominal</th>\n",
              "      <th>abnormal</th>\n",
              "      <th>abnormality</th>\n",
              "      <th>alcohol</th>\n",
              "      <th>allergens</th>\n",
              "      <th>...</th>\n",
              "      <th>urine</th>\n",
              "      <th>visual</th>\n",
              "      <th>wall</th>\n",
              "      <th>wbc</th>\n",
              "      <th>weak</th>\n",
              "      <th>weakness</th>\n",
              "      <th>weight</th>\n",
              "      <th>wheezing</th>\n",
              "      <th>white</th>\n",
              "      <th>xray</th>\n",
              "    </tr>\n",
              "  </thead>\n",
              "  <tbody>\n",
              "    <tr>\n",
              "      <th>0</th>\n",
              "      <td>45</td>\n",
              "      <td>0</td>\n",
              "      <td>7</td>\n",
              "      <td>1.0</td>\n",
              "      <td>0.0</td>\n",
              "      <td>0.000000</td>\n",
              "      <td>0.000000</td>\n",
              "      <td>0.000000</td>\n",
              "      <td>0.000000</td>\n",
              "      <td>0.0</td>\n",
              "      <td>...</td>\n",
              "      <td>0.0</td>\n",
              "      <td>0.0</td>\n",
              "      <td>0.0</td>\n",
              "      <td>0.0</td>\n",
              "      <td>0.0</td>\n",
              "      <td>0.0</td>\n",
              "      <td>0.0</td>\n",
              "      <td>0.0</td>\n",
              "      <td>0.000000</td>\n",
              "      <td>0.163416</td>\n",
              "    </tr>\n",
              "    <tr>\n",
              "      <th>1</th>\n",
              "      <td>32</td>\n",
              "      <td>1</td>\n",
              "      <td>8</td>\n",
              "      <td>2.0</td>\n",
              "      <td>0.0</td>\n",
              "      <td>0.000000</td>\n",
              "      <td>0.167199</td>\n",
              "      <td>0.000000</td>\n",
              "      <td>0.000000</td>\n",
              "      <td>0.0</td>\n",
              "      <td>...</td>\n",
              "      <td>0.0</td>\n",
              "      <td>0.0</td>\n",
              "      <td>0.0</td>\n",
              "      <td>0.0</td>\n",
              "      <td>0.0</td>\n",
              "      <td>0.0</td>\n",
              "      <td>0.0</td>\n",
              "      <td>0.0</td>\n",
              "      <td>0.000000</td>\n",
              "      <td>0.000000</td>\n",
              "    </tr>\n",
              "    <tr>\n",
              "      <th>2</th>\n",
              "      <td>60</td>\n",
              "      <td>0</td>\n",
              "      <td>7</td>\n",
              "      <td>0.0</td>\n",
              "      <td>0.0</td>\n",
              "      <td>0.000000</td>\n",
              "      <td>0.000000</td>\n",
              "      <td>0.469022</td>\n",
              "      <td>0.000000</td>\n",
              "      <td>0.0</td>\n",
              "      <td>...</td>\n",
              "      <td>0.0</td>\n",
              "      <td>0.0</td>\n",
              "      <td>0.0</td>\n",
              "      <td>0.0</td>\n",
              "      <td>0.0</td>\n",
              "      <td>0.0</td>\n",
              "      <td>0.0</td>\n",
              "      <td>0.0</td>\n",
              "      <td>0.000000</td>\n",
              "      <td>0.176446</td>\n",
              "    </tr>\n",
              "    <tr>\n",
              "      <th>3</th>\n",
              "      <td>28</td>\n",
              "      <td>1</td>\n",
              "      <td>6</td>\n",
              "      <td>0.0</td>\n",
              "      <td>0.0</td>\n",
              "      <td>0.000000</td>\n",
              "      <td>0.000000</td>\n",
              "      <td>0.000000</td>\n",
              "      <td>0.000000</td>\n",
              "      <td>0.0</td>\n",
              "      <td>...</td>\n",
              "      <td>0.0</td>\n",
              "      <td>0.0</td>\n",
              "      <td>0.0</td>\n",
              "      <td>0.0</td>\n",
              "      <td>0.0</td>\n",
              "      <td>0.0</td>\n",
              "      <td>0.0</td>\n",
              "      <td>0.0</td>\n",
              "      <td>0.349131</td>\n",
              "      <td>0.000000</td>\n",
              "    </tr>\n",
              "    <tr>\n",
              "      <th>4</th>\n",
              "      <td>50</td>\n",
              "      <td>0</td>\n",
              "      <td>8</td>\n",
              "      <td>0.0</td>\n",
              "      <td>0.0</td>\n",
              "      <td>0.272157</td>\n",
              "      <td>0.000000</td>\n",
              "      <td>0.000000</td>\n",
              "      <td>0.314017</td>\n",
              "      <td>0.0</td>\n",
              "      <td>...</td>\n",
              "      <td>0.0</td>\n",
              "      <td>0.0</td>\n",
              "      <td>0.0</td>\n",
              "      <td>0.0</td>\n",
              "      <td>0.0</td>\n",
              "      <td>0.0</td>\n",
              "      <td>0.0</td>\n",
              "      <td>0.0</td>\n",
              "      <td>0.000000</td>\n",
              "      <td>0.000000</td>\n",
              "    </tr>\n",
              "  </tbody>\n",
              "</table>\n",
              "<p>5 rows × 226 columns</p>\n",
              "</div>\n",
              "      <button class=\"colab-df-convert\" onclick=\"convertToInteractive('df-1761ef02-6eb4-4bfd-854b-db0d63cc3286')\"\n",
              "              title=\"Convert this dataframe to an interactive table.\"\n",
              "              style=\"display:none;\">\n",
              "        \n",
              "  <svg xmlns=\"http://www.w3.org/2000/svg\" height=\"24px\"viewBox=\"0 0 24 24\"\n",
              "       width=\"24px\">\n",
              "    <path d=\"M0 0h24v24H0V0z\" fill=\"none\"/>\n",
              "    <path d=\"M18.56 5.44l.94 2.06.94-2.06 2.06-.94-2.06-.94-.94-2.06-.94 2.06-2.06.94zm-11 1L8.5 8.5l.94-2.06 2.06-.94-2.06-.94L8.5 2.5l-.94 2.06-2.06.94zm10 10l.94 2.06.94-2.06 2.06-.94-2.06-.94-.94-2.06-.94 2.06-2.06.94z\"/><path d=\"M17.41 7.96l-1.37-1.37c-.4-.4-.92-.59-1.43-.59-.52 0-1.04.2-1.43.59L10.3 9.45l-7.72 7.72c-.78.78-.78 2.05 0 2.83L4 21.41c.39.39.9.59 1.41.59.51 0 1.02-.2 1.41-.59l7.78-7.78 2.81-2.81c.8-.78.8-2.07 0-2.86zM5.41 20L4 18.59l7.72-7.72 1.47 1.35L5.41 20z\"/>\n",
              "  </svg>\n",
              "      </button>\n",
              "      \n",
              "  <style>\n",
              "    .colab-df-container {\n",
              "      display:flex;\n",
              "      flex-wrap:wrap;\n",
              "      gap: 12px;\n",
              "    }\n",
              "\n",
              "    .colab-df-convert {\n",
              "      background-color: #E8F0FE;\n",
              "      border: none;\n",
              "      border-radius: 50%;\n",
              "      cursor: pointer;\n",
              "      display: none;\n",
              "      fill: #1967D2;\n",
              "      height: 32px;\n",
              "      padding: 0 0 0 0;\n",
              "      width: 32px;\n",
              "    }\n",
              "\n",
              "    .colab-df-convert:hover {\n",
              "      background-color: #E2EBFA;\n",
              "      box-shadow: 0px 1px 2px rgba(60, 64, 67, 0.3), 0px 1px 3px 1px rgba(60, 64, 67, 0.15);\n",
              "      fill: #174EA6;\n",
              "    }\n",
              "\n",
              "    [theme=dark] .colab-df-convert {\n",
              "      background-color: #3B4455;\n",
              "      fill: #D2E3FC;\n",
              "    }\n",
              "\n",
              "    [theme=dark] .colab-df-convert:hover {\n",
              "      background-color: #434B5C;\n",
              "      box-shadow: 0px 1px 3px 1px rgba(0, 0, 0, 0.15);\n",
              "      filter: drop-shadow(0px 1px 2px rgba(0, 0, 0, 0.3));\n",
              "      fill: #FFFFFF;\n",
              "    }\n",
              "  </style>\n",
              "\n",
              "      <script>\n",
              "        const buttonEl =\n",
              "          document.querySelector('#df-1761ef02-6eb4-4bfd-854b-db0d63cc3286 button.colab-df-convert');\n",
              "        buttonEl.style.display =\n",
              "          google.colab.kernel.accessAllowed ? 'block' : 'none';\n",
              "\n",
              "        async function convertToInteractive(key) {\n",
              "          const element = document.querySelector('#df-1761ef02-6eb4-4bfd-854b-db0d63cc3286');\n",
              "          const dataTable =\n",
              "            await google.colab.kernel.invokeFunction('convertToInteractive',\n",
              "                                                     [key], {});\n",
              "          if (!dataTable) return;\n",
              "\n",
              "          const docLinkHtml = 'Like what you see? Visit the ' +\n",
              "            '<a target=\"_blank\" href=https://colab.research.google.com/notebooks/data_table.ipynb>data table notebook</a>'\n",
              "            + ' to learn more about interactive tables.';\n",
              "          element.innerHTML = '';\n",
              "          dataTable['output_type'] = 'display_data';\n",
              "          await google.colab.output.renderOutput(dataTable, element);\n",
              "          const docLink = document.createElement('div');\n",
              "          docLink.innerHTML = docLinkHtml;\n",
              "          element.appendChild(docLink);\n",
              "        }\n",
              "      </script>\n",
              "    </div>\n",
              "  </div>\n",
              "  "
            ]
          },
          "metadata": {},
          "execution_count": 28
        }
      ]
    },
    {
      "cell_type": "markdown",
      "source": [
        "#model training"
      ],
      "metadata": {
        "id": "AELnT-P-m0GM"
      }
    },
    {
      "cell_type": "code",
      "source": [
        "from sklearn.model_selection import train_test_split\n",
        "from sklearn.svm import SVC\n",
        "from sklearn.metrics import accuracy_score\n",
        "from sklearn.model_selection import cross_val_score\n",
        "from sklearn.ensemble import RandomForestClassifier\n",
        "from sklearn.naive_bayes import GaussianNB\n",
        "from sklearn.model_selection import GridSearchCV"
      ],
      "metadata": {
        "id": "-2sQ8GEmm2zh"
      },
      "execution_count": 29,
      "outputs": []
    },
    {
      "cell_type": "code",
      "source": [
        "combined_data.info()"
      ],
      "metadata": {
        "id": "3rfXbOfOtDwE",
        "colab": {
          "base_uri": "https://localhost:8080/"
        },
        "outputId": "0222afd7-ea1d-4d19-cd46-74e4fa34858a"
      },
      "execution_count": 30,
      "outputs": [
        {
          "output_type": "stream",
          "name": "stdout",
          "text": [
            "<class 'pandas.core.frame.DataFrame'>\n",
            "RangeIndex: 199 entries, 0 to 198\n",
            "Columns: 226 entries, Age to xray\n",
            "dtypes: float64(223), int64(3)\n",
            "memory usage: 351.5 KB\n"
          ]
        }
      ]
    },
    {
      "cell_type": "code",
      "source": [
        "combined_data.head()"
      ],
      "metadata": {
        "colab": {
          "base_uri": "https://localhost:8080/",
          "height": 317
        },
        "id": "Ov4qhoZKqJaP",
        "outputId": "6ee67f62-a39c-4f18-dfae-51e87ca59ab3"
      },
      "execution_count": 31,
      "outputs": [
        {
          "output_type": "execute_result",
          "data": {
            "text/plain": [
              "   Age  Sex  Hospitalization Data  HAI Name  abdomen  abdominal  abnormal  \\\n",
              "0   45    0                     7       1.0      0.0   0.000000  0.000000   \n",
              "1   32    1                     8       2.0      0.0   0.000000  0.167199   \n",
              "2   60    0                     7       0.0      0.0   0.000000  0.000000   \n",
              "3   28    1                     6       0.0      0.0   0.000000  0.000000   \n",
              "4   50    0                     8       0.0      0.0   0.272157  0.000000   \n",
              "\n",
              "   abnormality   alcohol  allergens  ...  urine  visual  wall  wbc  weak  \\\n",
              "0     0.000000  0.000000        0.0  ...    0.0     0.0   0.0  0.0   0.0   \n",
              "1     0.000000  0.000000        0.0  ...    0.0     0.0   0.0  0.0   0.0   \n",
              "2     0.469022  0.000000        0.0  ...    0.0     0.0   0.0  0.0   0.0   \n",
              "3     0.000000  0.000000        0.0  ...    0.0     0.0   0.0  0.0   0.0   \n",
              "4     0.000000  0.314017        0.0  ...    0.0     0.0   0.0  0.0   0.0   \n",
              "\n",
              "   weakness  weight  wheezing     white      xray  \n",
              "0       0.0     0.0       0.0  0.000000  0.163416  \n",
              "1       0.0     0.0       0.0  0.000000  0.000000  \n",
              "2       0.0     0.0       0.0  0.000000  0.176446  \n",
              "3       0.0     0.0       0.0  0.349131  0.000000  \n",
              "4       0.0     0.0       0.0  0.000000  0.000000  \n",
              "\n",
              "[5 rows x 226 columns]"
            ],
            "text/html": [
              "\n",
              "  <div id=\"df-21465eeb-2664-4935-8213-43de4c7fc88f\">\n",
              "    <div class=\"colab-df-container\">\n",
              "      <div>\n",
              "<style scoped>\n",
              "    .dataframe tbody tr th:only-of-type {\n",
              "        vertical-align: middle;\n",
              "    }\n",
              "\n",
              "    .dataframe tbody tr th {\n",
              "        vertical-align: top;\n",
              "    }\n",
              "\n",
              "    .dataframe thead th {\n",
              "        text-align: right;\n",
              "    }\n",
              "</style>\n",
              "<table border=\"1\" class=\"dataframe\">\n",
              "  <thead>\n",
              "    <tr style=\"text-align: right;\">\n",
              "      <th></th>\n",
              "      <th>Age</th>\n",
              "      <th>Sex</th>\n",
              "      <th>Hospitalization Data</th>\n",
              "      <th>HAI Name</th>\n",
              "      <th>abdomen</th>\n",
              "      <th>abdominal</th>\n",
              "      <th>abnormal</th>\n",
              "      <th>abnormality</th>\n",
              "      <th>alcohol</th>\n",
              "      <th>allergens</th>\n",
              "      <th>...</th>\n",
              "      <th>urine</th>\n",
              "      <th>visual</th>\n",
              "      <th>wall</th>\n",
              "      <th>wbc</th>\n",
              "      <th>weak</th>\n",
              "      <th>weakness</th>\n",
              "      <th>weight</th>\n",
              "      <th>wheezing</th>\n",
              "      <th>white</th>\n",
              "      <th>xray</th>\n",
              "    </tr>\n",
              "  </thead>\n",
              "  <tbody>\n",
              "    <tr>\n",
              "      <th>0</th>\n",
              "      <td>45</td>\n",
              "      <td>0</td>\n",
              "      <td>7</td>\n",
              "      <td>1.0</td>\n",
              "      <td>0.0</td>\n",
              "      <td>0.000000</td>\n",
              "      <td>0.000000</td>\n",
              "      <td>0.000000</td>\n",
              "      <td>0.000000</td>\n",
              "      <td>0.0</td>\n",
              "      <td>...</td>\n",
              "      <td>0.0</td>\n",
              "      <td>0.0</td>\n",
              "      <td>0.0</td>\n",
              "      <td>0.0</td>\n",
              "      <td>0.0</td>\n",
              "      <td>0.0</td>\n",
              "      <td>0.0</td>\n",
              "      <td>0.0</td>\n",
              "      <td>0.000000</td>\n",
              "      <td>0.163416</td>\n",
              "    </tr>\n",
              "    <tr>\n",
              "      <th>1</th>\n",
              "      <td>32</td>\n",
              "      <td>1</td>\n",
              "      <td>8</td>\n",
              "      <td>2.0</td>\n",
              "      <td>0.0</td>\n",
              "      <td>0.000000</td>\n",
              "      <td>0.167199</td>\n",
              "      <td>0.000000</td>\n",
              "      <td>0.000000</td>\n",
              "      <td>0.0</td>\n",
              "      <td>...</td>\n",
              "      <td>0.0</td>\n",
              "      <td>0.0</td>\n",
              "      <td>0.0</td>\n",
              "      <td>0.0</td>\n",
              "      <td>0.0</td>\n",
              "      <td>0.0</td>\n",
              "      <td>0.0</td>\n",
              "      <td>0.0</td>\n",
              "      <td>0.000000</td>\n",
              "      <td>0.000000</td>\n",
              "    </tr>\n",
              "    <tr>\n",
              "      <th>2</th>\n",
              "      <td>60</td>\n",
              "      <td>0</td>\n",
              "      <td>7</td>\n",
              "      <td>0.0</td>\n",
              "      <td>0.0</td>\n",
              "      <td>0.000000</td>\n",
              "      <td>0.000000</td>\n",
              "      <td>0.469022</td>\n",
              "      <td>0.000000</td>\n",
              "      <td>0.0</td>\n",
              "      <td>...</td>\n",
              "      <td>0.0</td>\n",
              "      <td>0.0</td>\n",
              "      <td>0.0</td>\n",
              "      <td>0.0</td>\n",
              "      <td>0.0</td>\n",
              "      <td>0.0</td>\n",
              "      <td>0.0</td>\n",
              "      <td>0.0</td>\n",
              "      <td>0.000000</td>\n",
              "      <td>0.176446</td>\n",
              "    </tr>\n",
              "    <tr>\n",
              "      <th>3</th>\n",
              "      <td>28</td>\n",
              "      <td>1</td>\n",
              "      <td>6</td>\n",
              "      <td>0.0</td>\n",
              "      <td>0.0</td>\n",
              "      <td>0.000000</td>\n",
              "      <td>0.000000</td>\n",
              "      <td>0.000000</td>\n",
              "      <td>0.000000</td>\n",
              "      <td>0.0</td>\n",
              "      <td>...</td>\n",
              "      <td>0.0</td>\n",
              "      <td>0.0</td>\n",
              "      <td>0.0</td>\n",
              "      <td>0.0</td>\n",
              "      <td>0.0</td>\n",
              "      <td>0.0</td>\n",
              "      <td>0.0</td>\n",
              "      <td>0.0</td>\n",
              "      <td>0.349131</td>\n",
              "      <td>0.000000</td>\n",
              "    </tr>\n",
              "    <tr>\n",
              "      <th>4</th>\n",
              "      <td>50</td>\n",
              "      <td>0</td>\n",
              "      <td>8</td>\n",
              "      <td>0.0</td>\n",
              "      <td>0.0</td>\n",
              "      <td>0.272157</td>\n",
              "      <td>0.000000</td>\n",
              "      <td>0.000000</td>\n",
              "      <td>0.314017</td>\n",
              "      <td>0.0</td>\n",
              "      <td>...</td>\n",
              "      <td>0.0</td>\n",
              "      <td>0.0</td>\n",
              "      <td>0.0</td>\n",
              "      <td>0.0</td>\n",
              "      <td>0.0</td>\n",
              "      <td>0.0</td>\n",
              "      <td>0.0</td>\n",
              "      <td>0.0</td>\n",
              "      <td>0.000000</td>\n",
              "      <td>0.000000</td>\n",
              "    </tr>\n",
              "  </tbody>\n",
              "</table>\n",
              "<p>5 rows × 226 columns</p>\n",
              "</div>\n",
              "      <button class=\"colab-df-convert\" onclick=\"convertToInteractive('df-21465eeb-2664-4935-8213-43de4c7fc88f')\"\n",
              "              title=\"Convert this dataframe to an interactive table.\"\n",
              "              style=\"display:none;\">\n",
              "        \n",
              "  <svg xmlns=\"http://www.w3.org/2000/svg\" height=\"24px\"viewBox=\"0 0 24 24\"\n",
              "       width=\"24px\">\n",
              "    <path d=\"M0 0h24v24H0V0z\" fill=\"none\"/>\n",
              "    <path d=\"M18.56 5.44l.94 2.06.94-2.06 2.06-.94-2.06-.94-.94-2.06-.94 2.06-2.06.94zm-11 1L8.5 8.5l.94-2.06 2.06-.94-2.06-.94L8.5 2.5l-.94 2.06-2.06.94zm10 10l.94 2.06.94-2.06 2.06-.94-2.06-.94-.94-2.06-.94 2.06-2.06.94z\"/><path d=\"M17.41 7.96l-1.37-1.37c-.4-.4-.92-.59-1.43-.59-.52 0-1.04.2-1.43.59L10.3 9.45l-7.72 7.72c-.78.78-.78 2.05 0 2.83L4 21.41c.39.39.9.59 1.41.59.51 0 1.02-.2 1.41-.59l7.78-7.78 2.81-2.81c.8-.78.8-2.07 0-2.86zM5.41 20L4 18.59l7.72-7.72 1.47 1.35L5.41 20z\"/>\n",
              "  </svg>\n",
              "      </button>\n",
              "      \n",
              "  <style>\n",
              "    .colab-df-container {\n",
              "      display:flex;\n",
              "      flex-wrap:wrap;\n",
              "      gap: 12px;\n",
              "    }\n",
              "\n",
              "    .colab-df-convert {\n",
              "      background-color: #E8F0FE;\n",
              "      border: none;\n",
              "      border-radius: 50%;\n",
              "      cursor: pointer;\n",
              "      display: none;\n",
              "      fill: #1967D2;\n",
              "      height: 32px;\n",
              "      padding: 0 0 0 0;\n",
              "      width: 32px;\n",
              "    }\n",
              "\n",
              "    .colab-df-convert:hover {\n",
              "      background-color: #E2EBFA;\n",
              "      box-shadow: 0px 1px 2px rgba(60, 64, 67, 0.3), 0px 1px 3px 1px rgba(60, 64, 67, 0.15);\n",
              "      fill: #174EA6;\n",
              "    }\n",
              "\n",
              "    [theme=dark] .colab-df-convert {\n",
              "      background-color: #3B4455;\n",
              "      fill: #D2E3FC;\n",
              "    }\n",
              "\n",
              "    [theme=dark] .colab-df-convert:hover {\n",
              "      background-color: #434B5C;\n",
              "      box-shadow: 0px 1px 3px 1px rgba(0, 0, 0, 0.15);\n",
              "      filter: drop-shadow(0px 1px 2px rgba(0, 0, 0, 0.3));\n",
              "      fill: #FFFFFF;\n",
              "    }\n",
              "  </style>\n",
              "\n",
              "      <script>\n",
              "        const buttonEl =\n",
              "          document.querySelector('#df-21465eeb-2664-4935-8213-43de4c7fc88f button.colab-df-convert');\n",
              "        buttonEl.style.display =\n",
              "          google.colab.kernel.accessAllowed ? 'block' : 'none';\n",
              "\n",
              "        async function convertToInteractive(key) {\n",
              "          const element = document.querySelector('#df-21465eeb-2664-4935-8213-43de4c7fc88f');\n",
              "          const dataTable =\n",
              "            await google.colab.kernel.invokeFunction('convertToInteractive',\n",
              "                                                     [key], {});\n",
              "          if (!dataTable) return;\n",
              "\n",
              "          const docLinkHtml = 'Like what you see? Visit the ' +\n",
              "            '<a target=\"_blank\" href=https://colab.research.google.com/notebooks/data_table.ipynb>data table notebook</a>'\n",
              "            + ' to learn more about interactive tables.';\n",
              "          element.innerHTML = '';\n",
              "          dataTable['output_type'] = 'display_data';\n",
              "          await google.colab.output.renderOutput(dataTable, element);\n",
              "          const docLink = document.createElement('div');\n",
              "          docLink.innerHTML = docLinkHtml;\n",
              "          element.appendChild(docLink);\n",
              "        }\n",
              "      </script>\n",
              "    </div>\n",
              "  </div>\n",
              "  "
            ]
          },
          "metadata": {},
          "execution_count": 31
        }
      ]
    },
    {
      "cell_type": "code",
      "source": [
        "df['HAI Name'].info()"
      ],
      "metadata": {
        "id": "WDLmyCm-tJFc",
        "colab": {
          "base_uri": "https://localhost:8080/"
        },
        "outputId": "94b8a277-1797-427a-c79f-f4c0f852d193"
      },
      "execution_count": 32,
      "outputs": [
        {
          "output_type": "stream",
          "name": "stdout",
          "text": [
            "<class 'pandas.core.series.Series'>\n",
            "RangeIndex: 199 entries, 0 to 198\n",
            "Series name: HAI Name\n",
            "Non-Null Count  Dtype  \n",
            "--------------  -----  \n",
            "199 non-null    float64\n",
            "dtypes: float64(1)\n",
            "memory usage: 1.7 KB\n"
          ]
        }
      ]
    },
    {
      "cell_type": "code",
      "source": [
        "X = combined_data.drop('HAI Name', axis=1)\n",
        "\n",
        "y = combined_data['HAI Name']\n",
        "X.info()\n",
        "print(len(X))\n",
        "print(len(y))\n",
        "# len(X) == len(y)\n",
        "X_train, X_test, y_train, y_test = train_test_split(X, y, test_size=0.2, random_state=42)"
      ],
      "metadata": {
        "colab": {
          "base_uri": "https://localhost:8080/"
        },
        "id": "6wlBcGn1m3MP",
        "outputId": "af322838-d0f3-4e41-f37c-6968c543a01a"
      },
      "execution_count": 33,
      "outputs": [
        {
          "output_type": "stream",
          "name": "stdout",
          "text": [
            "<class 'pandas.core.frame.DataFrame'>\n",
            "RangeIndex: 199 entries, 0 to 198\n",
            "Columns: 225 entries, Age to xray\n",
            "dtypes: float64(222), int64(3)\n",
            "memory usage: 349.9 KB\n",
            "199\n",
            "199\n"
          ]
        }
      ]
    },
    {
      "cell_type": "code",
      "source": [
        "# # svm\n",
        "svm = SVC()\n",
        "svm.fit(X_train, y_train)\n",
        "\n",
        "y_pred = svm.predict(X_test)\n",
        "svm_accuracy = accuracy_score(y_test, y_pred)*100\n",
        "print(\"Accuracy:\", svm_accuracy, \"%\")\n",
        "\n",
        "svm_score = cross_val_score(svm, X_train, y_train, cv=6)\n",
        "print('svm cross validation score',round(svm_score.mean()*100,2).astype(str),'%' )\n",
        "\n"
      ],
      "metadata": {
        "id": "S1oQKpr3m7l9",
        "colab": {
          "base_uri": "https://localhost:8080/"
        },
        "outputId": "e04ebcec-28b7-4414-854c-bb1dea208090"
      },
      "execution_count": 34,
      "outputs": [
        {
          "output_type": "stream",
          "name": "stdout",
          "text": [
            "Accuracy: 32.5 %\n",
            "svm cross validation score 35.21 %\n"
          ]
        },
        {
          "output_type": "stream",
          "name": "stderr",
          "text": [
            "/usr/local/lib/python3.9/dist-packages/sklearn/model_selection/_split.py:700: UserWarning: The least populated class in y has only 1 members, which is less than n_splits=6.\n",
            "  warnings.warn(\n"
          ]
        }
      ]
    },
    {
      "cell_type": "code",
      "source": [
        "# Random Forest Classifer\n",
        "rf = RandomForestClassifier(n_estimators=100, random_state=42)\n",
        "rf.fit(X_train, y_train)\n",
        "\n",
        "y_pred = rf.predict(X_test)\n",
        "rf_accuracy = accuracy_score(y_test, y_pred)*100\n",
        "print(\"Accuracy:\", rf_accuracy, \"%\")\n",
        "\n",
        "rf_score = cross_val_score(rf, X_train, y_train, cv=6)\n",
        "print('rfc cross validation score',round(rf_score.mean()*100,2).astype(str),'%' )"
      ],
      "metadata": {
        "colab": {
          "base_uri": "https://localhost:8080/"
        },
        "id": "p-ErnXdinFmf",
        "outputId": "c4db642c-579e-40d0-b515-222d01390d11"
      },
      "execution_count": 35,
      "outputs": [
        {
          "output_type": "stream",
          "name": "stdout",
          "text": [
            "Accuracy: 87.5 %\n"
          ]
        },
        {
          "output_type": "stream",
          "name": "stderr",
          "text": [
            "/usr/local/lib/python3.9/dist-packages/sklearn/model_selection/_split.py:700: UserWarning: The least populated class in y has only 1 members, which is less than n_splits=6.\n",
            "  warnings.warn(\n"
          ]
        },
        {
          "output_type": "stream",
          "name": "stdout",
          "text": [
            "rfc cross validation score 90.69 %\n"
          ]
        }
      ]
    },
    {
      "cell_type": "code",
      "source": [
        "#  Naive bayes\n",
        "nb = GaussianNB()\n",
        "nb.fit(X_train, y_train)\n",
        "\n",
        "y_pred = nb.predict(X_test)\n",
        "nb_accuracy = accuracy_score(y_test, y_pred)*100\n",
        "print(\"Accuracy:\", nb_accuracy, \"%\")\n",
        "\n",
        "nb_score= cross_val_score(nb,X_train,y_train,cv=6)\n",
        "print('naive bayes cross validation score',round(nb_score.mean()*100,2).astype(str),'%' )"
      ],
      "metadata": {
        "id": "0j1sprZsnF1s",
        "colab": {
          "base_uri": "https://localhost:8080/"
        },
        "outputId": "e04b5e0a-0f60-4c08-97a4-bb913aeb81f4"
      },
      "execution_count": 36,
      "outputs": [
        {
          "output_type": "stream",
          "name": "stdout",
          "text": [
            "Accuracy: 90.0 %\n",
            "naive bayes cross validation score 85.02 %\n"
          ]
        },
        {
          "output_type": "stream",
          "name": "stderr",
          "text": [
            "/usr/local/lib/python3.9/dist-packages/sklearn/model_selection/_split.py:700: UserWarning: The least populated class in y has only 1 members, which is less than n_splits=6.\n",
            "  warnings.warn(\n"
          ]
        }
      ]
    },
    {
      "cell_type": "code",
      "source": [
        "# GridSearchCV\n",
        "svc_params = {'C': [0.5, 0.7, 0.9, 1], 'kernel': ['rbf', 'poly', 'sigmoid', 'linear']}\n",
        "grid_svc = GridSearchCV(SVC(), svc_params)\n",
        "grid_svc.fit(X_train, y_train)\n",
        "svc = grid_svc.best_estimator_\n",
        "\n",
        "y_pred = grid_svc.predict(X_test)\n",
        "svc_accuracy = accuracy_score(y_test, y_pred)*100\n",
        "print(\"Accuracy:\", nb_accuracy, \"%\")\n",
        "\n",
        "svc_score= cross_val_score(svc,X_train,y_train,cv=6)\n",
        "print('svc cross validation score',round(svc_score.mean()*100,2).astype(str),'%' )"
      ],
      "metadata": {
        "id": "W1Po5cmJnGGT",
        "colab": {
          "base_uri": "https://localhost:8080/"
        },
        "outputId": "b270e4c5-ab58-42ed-960c-8ae0944cafef"
      },
      "execution_count": 37,
      "outputs": [
        {
          "output_type": "stream",
          "name": "stderr",
          "text": [
            "/usr/local/lib/python3.9/dist-packages/sklearn/model_selection/_split.py:700: UserWarning: The least populated class in y has only 1 members, which is less than n_splits=5.\n",
            "  warnings.warn(\n"
          ]
        },
        {
          "output_type": "stream",
          "name": "stdout",
          "text": [
            "Accuracy: 90.0 %\n"
          ]
        },
        {
          "output_type": "stream",
          "name": "stderr",
          "text": [
            "/usr/local/lib/python3.9/dist-packages/sklearn/model_selection/_split.py:700: UserWarning: The least populated class in y has only 1 members, which is less than n_splits=6.\n",
            "  warnings.warn(\n"
          ]
        },
        {
          "output_type": "stream",
          "name": "stdout",
          "text": [
            "svc cross validation score 87.54 %\n"
          ]
        }
      ]
    },
    {
      "cell_type": "markdown",
      "source": [
        "#output predicting"
      ],
      "metadata": {
        "id": "Enb961F7xwsY"
      }
    },
    {
      "cell_type": "code",
      "source": [
        "data_list = [1, 45, 'M', 'White', 'Non-Hispanic', 'Asthma, Hypertension', '2023-01-05 to 2023-01-12', 'Blood Test: Normal, X-ray: Clear', 'MRI: No abnormalities', 'NonNasal swab: Positive for influenzae', 'Obesity, Smoking', 'Cough, Fever', 'Elevated heart rate', 'Antibiotics', 'Recovered','None']\n",
        "columns = ['Patient ID','Age', 'Sex', 'Race', 'Ethnicity', 'Medical History', 'Hospitalization Data', 'Laboratory Data', 'Imaging Data', 'Microbiology Data', 'Risk Factors', 'Symptoms', 'Signs', 'Treatment', 'Outcomes','Unnamed: 16']\n",
        "df_new = pd.DataFrame([data_list], columns=columns)\n",
        "test_df = Processing(df_new)\n",
        "X_data = test_df.process_data()\n",
        "X_data.head()\n",
        "\n",
        "# Step 1: Get feature names used during training\n",
        "feature_names_training = X_train.columns.tolist()\n",
        "\n",
        "# Step 2: Align feature names in test data\n",
        "feature_names_test = X_data.columns.tolist()\n",
        "\n",
        "# Step 3: Identify unseen features in test data\n",
        "unseen_features = set(feature_names_test) - set(feature_names_training)\n",
        "\n",
        "# Step 4: Drop unseen features from test data\n",
        "X_data = X_data.drop(unseen_features, axis=1)\n",
        "\n",
        "# Step 5: Reorder features in test data to match the order in training data\n",
        "X_data = X_data.reindex(columns=feature_names_training, fill_value=0)\n",
        "\n",
        "# # Step 6: Make predictions using the Random Forest classifier\n",
        "# predict = rf.predict(X_data)\n",
        "# print(predict)\n"
      ],
      "metadata": {
        "colab": {
          "base_uri": "https://localhost:8080/"
        },
        "id": "-Tj0aqEfktqV",
        "outputId": "5273fce7-99ff-4100-e4be-f751899ebae4"
      },
      "execution_count": 38,
      "outputs": [
        {
          "output_type": "stream",
          "name": "stderr",
          "text": [
            "<ipython-input-25-51035550c803>:38: SettingWithCopyWarning: \n",
            "A value is trying to be set on a copy of a slice from a DataFrame.\n",
            "Try using .loc[row_indexer,col_indexer] = value instead\n",
            "\n",
            "See the caveats in the documentation: https://pandas.pydata.org/pandas-docs/stable/user_guide/indexing.html#returning-a-view-versus-a-copy\n",
            "  td[column] = td[column].apply(lambda x: x.translate(str.maketrans('', '', string.punctuation)) if isinstance(x, str) else x)\n",
            "<ipython-input-25-51035550c803>:43: SettingWithCopyWarning: \n",
            "A value is trying to be set on a copy of a slice from a DataFrame.\n",
            "Try using .loc[row_indexer,col_indexer] = value instead\n",
            "\n",
            "See the caveats in the documentation: https://pandas.pydata.org/pandas-docs/stable/user_guide/indexing.html#returning-a-view-versus-a-copy\n",
            "  td[column] = td[column].apply(lambda x: ' '.join([word for word in str(x).split() if word.lower() not in stop_words]))\n",
            "<ipython-input-25-51035550c803>:73: SettingWithCopyWarning: \n",
            "A value is trying to be set on a copy of a slice from a DataFrame.\n",
            "Try using .loc[row_indexer,col_indexer] = value instead\n",
            "\n",
            "See the caveats in the documentation: https://pandas.pydata.org/pandas-docs/stable/user_guide/indexing.html#returning-a-view-versus-a-copy\n",
            "  td.loc[:, column] = td[column].apply(lemmatize_column)\n",
            "<ipython-input-25-51035550c803>:79: SettingWithCopyWarning: \n",
            "A value is trying to be set on a copy of a slice from a DataFrame.\n",
            "Try using .loc[row_indexer,col_indexer] = value instead\n",
            "\n",
            "See the caveats in the documentation: https://pandas.pydata.org/pandas-docs/stable/user_guide/indexing.html#returning-a-view-versus-a-copy\n",
            "  td['Combined Text'] = td[text_columns].apply(lambda x: ' '.join(x.dropna().astype(str)), axis=1)\n"
          ]
        }
      ]
    },
    {
      "cell_type": "code",
      "source": [
        "# predict = grid_svc.predict(X_data)\n",
        "predict = rf.predict(X_data)\n",
        "print(predict)"
      ],
      "metadata": {
        "colab": {
          "base_uri": "https://localhost:8080/"
        },
        "id": "R9RMCB2lauwC",
        "outputId": "45bbed0e-4bad-4615-c0ba-c85d0d6d3135"
      },
      "execution_count": 39,
      "outputs": [
        {
          "output_type": "stream",
          "name": "stdout",
          "text": [
            "[3.]\n"
          ]
        }
      ]
    },
    {
      "cell_type": "code",
      "source": [
        "# Define a dictionary to map the numeric labels to their corresponding strings\n",
        "label_mapping = {-1: 'None', 0: 'Other', 1: 'Pneumonia', 2: 'Influenza', 3: 'Unspecified Infection', 4: 'COVID-19', 5: 'Respiratory Infection'}\n",
        "\n",
        "# Map the predicted values to their corresponding strings\n",
        "predict_strings = [label_mapping[label] for label in predict]\n",
        "\n",
        "# Print the predicted strings\n",
        "for prediction in predict_strings:\n",
        "    print(prediction)"
      ],
      "metadata": {
        "colab": {
          "base_uri": "https://localhost:8080/"
        },
        "id": "-7y_oyIZk8B7",
        "outputId": "6e2f133d-5720-4417-9050-292d91854882"
      },
      "execution_count": 40,
      "outputs": [
        {
          "output_type": "stream",
          "name": "stdout",
          "text": [
            "Unspecified Infection\n"
          ]
        }
      ]
    },
    {
      "cell_type": "markdown",
      "source": [
        "#saving the model"
      ],
      "metadata": {
        "id": "fEd2yZVhnNlj"
      }
    },
    {
      "cell_type": "code",
      "source": [
        "# !pip install joblib"
      ],
      "metadata": {
        "id": "cA6KL2SOnZo5"
      },
      "execution_count": 41,
      "outputs": []
    },
    {
      "cell_type": "code",
      "source": [
        "import pickle\n",
        "\n",
        "filename = 'hai_pred_model.sav'\n",
        "pickle.dump(rf, open(filename, 'wb'))\n",
        "\n"
      ],
      "metadata": {
        "id": "RBdpzxlRnLtb"
      },
      "execution_count": 42,
      "outputs": []
    },
    {
      "cell_type": "code",
      "source": [
        "# loading the model\n",
        "model = pickle.load(open('hai_pred_model.sav', 'rb'))\n",
        "\n",
        "predict = model.predict(X_data)\n",
        "print(predict)"
      ],
      "metadata": {
        "colab": {
          "base_uri": "https://localhost:8080/"
        },
        "id": "dwezrbFUpFQ3",
        "outputId": "4d93af2f-9154-4234-d74e-86123591620e"
      },
      "execution_count": 43,
      "outputs": [
        {
          "output_type": "stream",
          "name": "stdout",
          "text": [
            "[3.]\n"
          ]
        }
      ]
    }
  ]
}